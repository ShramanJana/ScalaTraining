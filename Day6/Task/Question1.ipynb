{
 "cells": [
  {
   "cell_type": "code",
   "execution_count": 1,
   "metadata": {},
   "outputs": [
    {
     "name": "stdout",
     "output_type": "stream",
     "text": [
      "Task Started\n",
      "Task completed\n"
     ]
    },
    {
     "data": {
      "text/plain": [
       "defined \u001b[32mclass\u001b[39m \u001b[36mJobRunner\u001b[39m\n",
       "defined \u001b[32mobject\u001b[39m \u001b[36mJobRunner\u001b[39m\n",
       "\u001b[36mnewJob\u001b[39m: \u001b[32mJobRunner\u001b[39m = \u001b[33mJobRunner\u001b[39m(name = \u001b[32m\"Dance\"\u001b[39m)"
      ]
     },
     "execution_count": 1,
     "metadata": {},
     "output_type": "execute_result"
    }
   ],
   "source": [
    "case class JobRunner(name: String)\n",
    "\n",
    "object JobRunner {\n",
    "    def apply(name: String, time_in_seconds: Int)(block: => Unit): JobRunner = {\n",
    "        println(\"Task Started\")\n",
    "        Thread.sleep(time_in_seconds*1000)\n",
    "        block\n",
    "        \n",
    "        new JobRunner(name)\n",
    "    }\n",
    "}\n",
    "\n",
    "\n",
    "val newJob: JobRunner = JobRunner(\"Dance\", 10) {\n",
    "    println(\"Task completed\")\n",
    "}"
   ]
  }
 ],
 "metadata": {
  "kernelspec": {
   "display_name": "Scala",
   "language": "scala",
   "name": "scala"
  },
  "language_info": {
   "codemirror_mode": "text/x-scala",
   "file_extension": ".sc",
   "mimetype": "text/x-scala",
   "name": "scala",
   "nbconvert_exporter": "script",
   "version": "2.13.14"
  }
 },
 "nbformat": 4,
 "nbformat_minor": 2
}
