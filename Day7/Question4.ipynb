{
 "cells": [
  {
   "cell_type": "markdown",
   "metadata": {},
   "source": [
    "1. Create a Topic with 3 Partitions and \n",
    "Replication Factor 2\n",
    "\n",
    "kafka-topics.sh --bootstrap-server localhost:9092 --topic scalaexercise --replication-factor 2 --partitions 3 --create\n",
    "\n",
    "<img src=\"1.png\">"
   ]
  },
  {
   "cell_type": "markdown",
   "metadata": {},
   "source": [
    "2. Create multiple producers using CLI\n",
    "<img src = \"2.png\">\n",
    "<img src = \"3.png\">\n",
    "<img src = \"4.png\">"
   ]
  },
  {
   "cell_type": "markdown",
   "metadata": {},
   "source": [
    "3. Create Two Consumer groups\n",
    "   1. multiple consumers in the group\n",
    "    kafka-console-consumer.sh --bootstrap-server localhost:9092 --topic scalabatch --group scala-consumer-group\n",
    "    kafka-console-consumer.sh --bootstrap-server localhost:9093 --topic scalabatch --group scala-consumer-group\n",
    "    <img src=\"5.png\">\n",
    "    <img src=\"6.png\">\n",
    "\n",
    "   2. only one consumer in the group\n",
    "   kafka-console-consumer.sh --bootstrap-server localhost:9094 --topic scalabatch --group scala-consumer-group2\n",
    "    <img src=\"7.png\">\n"
   ]
  },
  {
   "cell_type": "markdown",
   "metadata": {},
   "source": [
    "4.1 How the consumers consume it\n",
    "Messages go to random partitions when key is not mentioned in the message, consumers assigned to the partitions in a particular consumer group consume it\n",
    "Since consumer 3 is the only one consumer in the consumer group all partitions get assigned to it\n",
    "<img src=\"8.png\">\n",
    "<img src=\"9.png\">\n",
    "<img src=\"13.png\">\n",
    "<img src=\"10.png\">\n",
    "<img src=\"11.png\">\n",
    "<img src=\"12.png\">\n",
    "\n",
    "4.2 How partitions are alloted to consumers\n",
    "Partitions assigned to consumers evenly, since in group 2 there is only 1 consumer, all partitions are assigned to it\n",
    "<img src=\"14.png\">\n"
   ]
  },
  {
   "cell_type": "markdown",
   "metadata": {},
   "source": [
    "4.3 How reallocation happens if a consumer is added\n",
    "Partitions get redistributed evenly within the 3 consumers in the consumer group, each reading from 1 partition\n",
    "<img src=\"17.png\">\n",
    "\n",
    "4.4 How reallocation happens if a consumer is removed\n",
    "Partitions are redistributed evenly, in this case all partitions get mapped to consumer remaining\n",
    "<img src=\"16.png\">"
   ]
  },
  {
   "cell_type": "markdown",
   "metadata": {},
   "source": []
  }
 ],
 "metadata": {
  "language_info": {
   "name": "python"
  }
 },
 "nbformat": 4,
 "nbformat_minor": 2
}
