{
 "cells": [
  {
   "cell_type": "markdown",
   "metadata": {},
   "source": [
    "# Companion Object\n",
    "\n",
    "In Scala, a companion object is an object that shares the same name as a class and is defined in the same file as that class. The companion object and the class have special access privileges to each other's private members, which makes it a powerful tool for implementing factory methods, utility functions, or managing state."
   ]
  },
  {
   "cell_type": "code",
   "execution_count": 8,
   "metadata": {},
   "outputs": [
    {
     "name": "stdout",
     "output_type": "stream",
     "text": [
      "Hello, this is a Yamaha bike.\n",
      "The better bike is Pulser.\n"
     ]
    },
    {
     "data": {
      "text/plain": [
       "defined \u001b[32mclass\u001b[39m \u001b[36mBike\u001b[39m\n",
       "defined \u001b[32mobject\u001b[39m \u001b[36mBike\u001b[39m\n",
       "\u001b[36mbike1\u001b[39m: \u001b[32mBike\u001b[39m = ammonite.$sess.cmd8$Helper$Bike@6cf943ad\n",
       "\u001b[36mbike2\u001b[39m: \u001b[32mBike\u001b[39m = ammonite.$sess.cmd8$Helper$Bike@51c120c8\n",
       "\u001b[36mbetterBike\u001b[39m: \u001b[32mBike\u001b[39m = ammonite.$sess.cmd8$Helper$Bike@51c120c8"
      ]
     },
     "execution_count": 8,
     "metadata": {},
     "output_type": "execute_result"
    }
   ],
   "source": [
    "class Bike(val name: String, val mileage: Int) {\n",
    "  // Instance method\n",
    "  def intro(): Unit = println(s\"Hello, this is a $name bike.\")\n",
    "}\n",
    "\n",
    "// Companion object for the Person class\n",
    "object Bike {\n",
    "  // Factory method\n",
    "  def apply(name: String, mileage: Int): Bike = new Bike(name, mileage)\n",
    "\n",
    "  // Utility method\n",
    "  def better(b1: Bike, b2: Bike): Bike = if (b1.mileage > b2.mileage) b1 else b2\n",
    "}\n",
    "\n",
    "val bike1 = Bike(\"Yamaha\", 25) \n",
    "val bike2 = Bike(\"Pulser\", 30)\n",
    "\n",
    "bike1.intro() \n",
    "\n",
    "val betterBike = Bike.better(bike1, bike2)\n",
    "println(s\"The better bike is ${betterBike.name}.\")"
   ]
  },
  {
   "cell_type": "markdown",
   "metadata": {},
   "source": [
    "Private Access between Class and Companion Object"
   ]
  },
  {
   "cell_type": "code",
   "execution_count": 7,
   "metadata": {},
   "outputs": [
    {
     "name": "stdout",
     "output_type": "stream",
     "text": [
      "1\n"
     ]
    },
    {
     "data": {
      "text/plain": [
       "defined \u001b[32mclass\u001b[39m \u001b[36mCounter\u001b[39m\n",
       "defined \u001b[32mobject\u001b[39m \u001b[36mCounter\u001b[39m\n",
       "\u001b[36mcounter\u001b[39m: \u001b[32mCounter\u001b[39m = ammonite.$sess.cmd7$Helper$Counter@31bb7235\n",
       "\u001b[36mnextCounter\u001b[39m: \u001b[32mCounter\u001b[39m = ammonite.$sess.cmd7$Helper$Counter@15ea96e7"
      ]
     },
     "execution_count": 7,
     "metadata": {},
     "output_type": "execute_result"
    }
   ],
   "source": [
    "// private constructor \n",
    "class Counter private ( val count: Int) {\n",
    "  private def increment = new Counter(count + 1)\n",
    "}\n",
    "\n",
    "object Counter {\n",
    "  def apply(start: Int): Counter = new Counter(start)\n",
    "  def increment(counter: Counter): Counter = counter.increment\n",
    "}\n",
    "\n",
    "val counter = Counter(0)\n",
    "val nextCounter = Counter.increment(counter)\n",
    "println(nextCounter.count)"
   ]
  },
  {
   "cell_type": "code",
   "execution_count": null,
   "metadata": {},
   "outputs": [],
   "source": []
  }
 ],
 "metadata": {
  "kernelspec": {
   "display_name": "Scala",
   "language": "scala",
   "name": "scala"
  },
  "language_info": {
   "codemirror_mode": "text/x-scala",
   "file_extension": ".sc",
   "mimetype": "text/x-scala",
   "name": "scala",
   "nbconvert_exporter": "script",
   "version": "2.13.14"
  }
 },
 "nbformat": 4,
 "nbformat_minor": 2
}
