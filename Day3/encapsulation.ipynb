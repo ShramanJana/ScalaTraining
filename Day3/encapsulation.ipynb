{
 "cells": [
  {
   "cell_type": "markdown",
   "metadata": {},
   "source": [
    "# Scala OOPS- Encapsulation"
   ]
  },
  {
   "cell_type": "markdown",
   "metadata": {},
   "source": [
    "## Class"
   ]
  },
  {
   "cell_type": "markdown",
   "metadata": {},
   "source": [
    "A class is a user-defined blueprint or prototype from which objects are created. Or in other words, a class combines the fields and methods(member function which defines actions) into a single unit."
   ]
  },
  {
   "cell_type": "code",
   "execution_count": 10,
   "metadata": {},
   "outputs": [
    {
     "data": {
      "text/plain": [
       "defined \u001b[32mclass\u001b[39m \u001b[36mPerson\u001b[39m"
      ]
     },
     "execution_count": 10,
     "metadata": {},
     "output_type": "execute_result"
    }
   ],
   "source": [
    "// Define a class Person\n",
    "class Person(name: String, var age: Int) {\n",
    "  \n",
    "  // Method to display person details\n",
    "  def displayInfo(): Unit = {\n",
    "    println(s\"Hi, I am $name, of age $age years ols\")\n",
    "  }\n",
    "\n",
    "  // Method to have a birthday\n",
    "  def birthday(): Unit = {\n",
    "    age += 1\n",
    "    println(s\"It my Birthday! I just turned $age.\")\n",
    "  }\n",
    "}\n"
   ]
  },
  {
   "cell_type": "markdown",
   "metadata": {},
   "source": [
    "## Objects\n",
    "\n",
    "It is a basic unit of Object Oriented Programming and represents the real-life entities."
   ]
  },
  {
   "cell_type": "code",
   "execution_count": 11,
   "metadata": {},
   "outputs": [
    {
     "name": "stdout",
     "output_type": "stream",
     "text": [
      "Hi, I am Shraman, of age 23 years ols\n",
      "It my Birthday! I just turned 24.\n",
      "Hi, I am Shraman, of age 24 years ols\n"
     ]
    },
    {
     "data": {
      "text/plain": [
       "\u001b[36mperson1\u001b[39m: \u001b[32mPerson\u001b[39m = ammonite.$sess.cmd10$Helper$Person@6063ba1e"
      ]
     },
     "execution_count": 11,
     "metadata": {},
     "output_type": "execute_result"
    }
   ],
   "source": [
    "// Creating instance of the obove class Person\n",
    "val person1 = new Person(\"Shraman\", 23)\n",
    "\n",
    "// Display initial info\n",
    "person1.displayInfo()\n",
    "\n",
    "// Simulate a birthday\n",
    "person1.birthday()\n",
    "\n",
    "// Display updated info\n",
    "person1.displayInfo()\n"
   ]
  },
  {
   "cell_type": "markdown",
   "metadata": {},
   "source": [
    "## Instance variable\n",
    "\n",
    "In Scala, instance variables (also known as fields or member variables) are defined within a class. An instance variable can be mutable on immutable based on the declaration "
   ]
  },
  {
   "cell_type": "code",
   "execution_count": 17,
   "metadata": {},
   "outputs": [
    {
     "name": "stdout",
     "output_type": "stream",
     "text": [
      "29"
     ]
    },
    {
     "data": {
      "text/plain": [
       "defined \u001b[32mclass\u001b[39m \u001b[36mPerson\u001b[39m\n",
       "\u001b[36mpersonObj\u001b[39m: \u001b[32mPerson\u001b[39m = ammonite.$sess.cmd17$Helper$Person@141399b3"
      ]
     },
     "execution_count": 17,
     "metadata": {},
     "output_type": "execute_result"
    }
   ],
   "source": [
    "// Define a class Person\n",
    "class Person(name: String, var age: Int) {\n",
    "  \n",
    "  // Method to display person details\n",
    "  def displayInfo(): Unit = {\n",
    "    println(s\"Hi, I am $name, of age $age years ols\")\n",
    "  }\n",
    "\n",
    "  // Method to have a birthday\n",
    "  def birthday(): Unit = {\n",
    "    age += 1\n",
    "    println(s\"It my Birthday! I just turned $age.\")\n",
    "  }\n",
    "}\n",
    "\n",
    "// Here name is immutable whereas age in mutable\n",
    "val personObj = new Person(\"Maddy\", 29)\n",
    "// Mutable variable can be accessed by the objects\n",
    "print(personObj.age)"
   ]
  },
  {
   "cell_type": "code",
   "execution_count": 17,
   "metadata": {},
   "outputs": [
    {
     "name": "stderr",
     "output_type": "stream",
     "text": [
      "cmd17.sc:2: value name is not a member of cmd17.this.cmd16.Person\n",
      "personObj.name\n",
      "          ^\n",
      "Compilation Failed"
     ]
    }
   ],
   "source": [
    "// Immutable instance varible can not be accessed by objects\n",
    "personObj.name"
   ]
  },
  {
   "cell_type": "markdown",
   "metadata": {},
   "source": [
    "## Constructors\n",
    "\n",
    "Constructor is a special method that is called when you create an instance of a class. Scala has two types of constructors: primary constructor and secondary constructors."
   ]
  },
  {
   "cell_type": "markdown",
   "metadata": {},
   "source": [
    "### Primary Constructors\n",
    "\n",
    "The primary constructor is defined directly in the class header. It can take parameters and can also initialize instance variables."
   ]
  },
  {
   "cell_type": "code",
   "execution_count": 18,
   "metadata": {},
   "outputs": [
    {
     "name": "stdout",
     "output_type": "stream",
     "text": [
      "Hello, my name is Shraman and I'm 24 years old.\n"
     ]
    },
    {
     "data": {
      "text/plain": [
       "defined \u001b[32mclass\u001b[39m \u001b[36mPerson\u001b[39m\n",
       "\u001b[36mperson1\u001b[39m: \u001b[32mPerson\u001b[39m = ammonite.$sess.cmd18$Helper$Person@60a702a0"
      ]
     },
     "execution_count": 18,
     "metadata": {},
     "output_type": "execute_result"
    }
   ],
   "source": [
    "class Person(val name: String, var age: Int) {\n",
    "  // Additional methods can be defined here\n",
    "  def greet(): String = s\"Hello, my name is $name and I'm $age years old.\"\n",
    "}\n",
    "\n",
    "// Creating an instance of the class\n",
    "val person1 = new Person(\"Shraman\", 24)\n",
    "println(person1.greet())"
   ]
  },
  {
   "cell_type": "markdown",
   "metadata": {},
   "source": [
    "### Secondary Contructors\n",
    "\n",
    "A secondary constructor allows you to define additional ways to create instances of a class. It can be defined within a class using the this keyword.\n",
    "\n",
    "A secondary constructor must make make call to the primary constructor at the first line."
   ]
  },
  {
   "cell_type": "code",
   "execution_count": 28,
   "metadata": {},
   "outputs": [
    {
     "name": "stdout",
     "output_type": "stream",
     "text": [
      "Hello, my name is Shraman and I'm 24 years old.\n",
      "Hello, my name is Maddy and I'm 25 years old.\n"
     ]
    },
    {
     "data": {
      "text/plain": [
       "defined \u001b[32mclass\u001b[39m \u001b[36mPerson\u001b[39m\n",
       "\u001b[36mperson1\u001b[39m: \u001b[32mPerson\u001b[39m = ammonite.$sess.cmd28$Helper$Person@123fad8\n",
       "\u001b[36mperson2\u001b[39m: \u001b[32mPerson\u001b[39m = ammonite.$sess.cmd28$Helper$Person@55fb6b4e"
      ]
     },
     "execution_count": 28,
     "metadata": {},
     "output_type": "execute_result"
    }
   ],
   "source": [
    "class Person(val name: String, var age: Int) {\n",
    "  // Primary constructor\n",
    "\n",
    "  // Secondary constructor\n",
    "  def this(name: String) = {\n",
    "    this(name, 25) // Default age is set to 25\n",
    "  }\n",
    "\n",
    "  def this(age: Int) = {\n",
    "    this(\"Random\", age) // Default age is set to 25\n",
    "  }\n",
    "\n",
    "  def greet(): String = s\"Hello, my name is $name and I'm $age years old.\"\n",
    "}\n",
    "\n",
    "\n",
    "// Using the primary constructor\n",
    "val person1 = new Person(\"Shraman\", 24)\n",
    "println(person1.greet())\n",
    "\n",
    "// Using the secondary constructor\n",
    "val person2 = new Person(\"Maddy\")\n",
    "println(person2.greet())"
   ]
  },
  {
   "cell_type": "markdown",
   "metadata": {},
   "source": [
    "## Case classes\n",
    "\n",
    "Case classes are a special type of class that comes with several benefits, making them particularly useful for modeling immutable data. They automatically provide implementations of common methods like equals, hashCode, and toString, and they also support pattern matching."
   ]
  },
  {
   "cell_type": "code",
   "execution_count": 32,
   "metadata": {},
   "outputs": [
    {
     "name": "stdout",
     "output_type": "stream",
     "text": [
      "Printing student object (case class) Student(Shraman,24)\n",
      "Printing normal class object ammonite.$sess.cmd28$Helper$Person@123fad8\n",
      "true\n",
      "Name: Shraman, Age: 24\n",
      "Student(Maddy,24)\n"
     ]
    },
    {
     "data": {
      "text/plain": [
       "defined \u001b[32mclass\u001b[39m \u001b[36mStudent\u001b[39m\n",
       "\u001b[36ms1\u001b[39m: \u001b[32mStudent\u001b[39m = \u001b[33mStudent\u001b[39m(name = \u001b[32m\"Shraman\"\u001b[39m, age = \u001b[32m24\u001b[39m)\n",
       "\u001b[36ms2\u001b[39m: \u001b[32mStudent\u001b[39m = \u001b[33mStudent\u001b[39m(name = \u001b[32m\"Maddy\"\u001b[39m, age = \u001b[32m24\u001b[39m)"
      ]
     },
     "execution_count": 32,
     "metadata": {},
     "output_type": "execute_result"
    }
   ],
   "source": [
    "case class Student (name: String, var age: Int)\n",
    "\n",
    "val s1 = Student(\"Shraman\", 24)\n",
    "\n",
    "// toString() method\n",
    "println(s\"Printing student object (case class) $s1\")\n",
    "println(s\"Printing normal class object $person1\")\n",
    "\n",
    "// comparing instances\n",
    "println(s1 == Student(\"Shraman\", 24))\n",
    "\n",
    "// Pattern matching\n",
    "s1 match {\n",
    "    case Student(name, age) => println(s\"Name: $name, Age: $age\")\n",
    "}\n",
    "\n",
    "// copy() method\n",
    "val s2 = s1.copy(name = \"Maddy\")\n",
    "println(s2)"
   ]
  },
  {
   "cell_type": "code",
   "execution_count": null,
   "metadata": {},
   "outputs": [],
   "source": []
  }
 ],
 "metadata": {
  "kernelspec": {
   "display_name": "Scala",
   "language": "scala",
   "name": "scala"
  },
  "language_info": {
   "codemirror_mode": "text/x-scala",
   "file_extension": ".sc",
   "mimetype": "text/x-scala",
   "name": "scala",
   "nbconvert_exporter": "script",
   "version": "2.13.14"
  }
 },
 "nbformat": 4,
 "nbformat_minor": 2
}
