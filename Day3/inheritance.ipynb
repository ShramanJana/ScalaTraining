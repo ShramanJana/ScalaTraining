{
 "cells": [
  {
   "cell_type": "markdown",
   "metadata": {},
   "source": [
    "# Scala OOPS - Inheritance\n",
    "\n",
    "Inheritance is an important pillar of OOP(Object Oriented Programming). It is the mechanism in Scala by which one class is allowed to inherit the features(fields and methods) of another class."
   ]
  },
  {
   "cell_type": "markdown",
   "metadata": {},
   "source": [
    "* Super Class: The class whose features are inherited is known as superclass(or a base class or a parent class).\n",
    "* Sub Class: The class that inherits the other class is known as subclass(or a derived class, extended class, or child class). The subclass can add its own fields and methods in addition to the superclass fields and methods."
   ]
  },
  {
   "cell_type": "code",
   "execution_count": 2,
   "metadata": {},
   "outputs": [
    {
     "name": "stdout",
     "output_type": "stream",
     "text": [
      "Name: Ankita, Roll No.: 25\n"
     ]
    },
    {
     "data": {
      "text/plain": [
       "defined \u001b[32mclass\u001b[39m \u001b[36mPerson\u001b[39m\n",
       "defined \u001b[32mclass\u001b[39m \u001b[36mStudent\u001b[39m\n",
       "\u001b[36mperson\u001b[39m: \u001b[32mStudent\u001b[39m = ammonite.$sess.cmd2$Helper$Student@445a1618"
      ]
     },
     "execution_count": 2,
     "metadata": {},
     "output_type": "execute_result"
    }
   ],
   "source": [
    "class Person {\n",
    "    var name: String = \"Ankita\"\n",
    "}\n",
    "\n",
    "class Student extends Person {\n",
    "    var rollNo: Int = 25\n",
    "\n",
    "    def details(): Unit = {\n",
    "        println(s\"Name: $name, Roll No.: $rollNo\")\n",
    "    }\n",
    "}\n",
    "\n",
    "val person: Student = new Student\n",
    "person.details()"
   ]
  },
  {
   "cell_type": "markdown",
   "metadata": {},
   "source": [
    "### Types of Inheritance"
   ]
  },
  {
   "cell_type": "markdown",
   "metadata": {},
   "source": [
    "#### Single Inheritance\n",
    "\n",
    "In single inheritance, derived class inherits the features of one base class. In the image below, class A serves as a base class for the derived class B. "
   ]
  },
  {
   "cell_type": "code",
   "execution_count": 3,
   "metadata": {},
   "outputs": [
    {
     "name": "stdout",
     "output_type": "stream",
     "text": [
      "Name: Ankita, Roll No.: 25\n"
     ]
    },
    {
     "data": {
      "text/plain": [
       "defined \u001b[32mclass\u001b[39m \u001b[36mPerson\u001b[39m\n",
       "defined \u001b[32mclass\u001b[39m \u001b[36mStudent\u001b[39m\n",
       "\u001b[36mperson\u001b[39m: \u001b[32mStudent\u001b[39m = ammonite.$sess.cmd3$Helper$Student@685441fd"
      ]
     },
     "execution_count": 3,
     "metadata": {},
     "output_type": "execute_result"
    }
   ],
   "source": [
    "class Person {\n",
    "    var name: String = \"Ankita\"\n",
    "}\n",
    "\n",
    "class Student extends Person {\n",
    "    var rollNo: Int = 25\n",
    "\n",
    "    def details(): Unit = {\n",
    "        println(s\"Name: $name, Roll No.: $rollNo\")\n",
    "    }\n",
    "}\n",
    "\n",
    "val person: Student = new Student\n",
    "person.details()"
   ]
  },
  {
   "cell_type": "markdown",
   "metadata": {},
   "source": [
    "#### Multilevel Inheritance\n",
    "\n",
    "In Multilevel Inheritance, a derived class will be inheriting a base class and as well as the derived class also act as the base class to another class."
   ]
  },
  {
   "cell_type": "code",
   "execution_count": 1,
   "metadata": {},
   "outputs": [
    {
     "name": "stdout",
     "output_type": "stream",
     "text": [
      "Name: Shraman, age: 25, Roll No.: 25\n"
     ]
    },
    {
     "data": {
      "text/plain": [
       "defined \u001b[32mclass\u001b[39m \u001b[36mHuman\u001b[39m\n",
       "defined \u001b[32mclass\u001b[39m \u001b[36mChild\u001b[39m\n",
       "defined \u001b[32mclass\u001b[39m \u001b[36mStudent\u001b[39m\n",
       "\u001b[36mperson\u001b[39m: \u001b[32mStudent\u001b[39m = ammonite.$sess.cmd1$Helper$Student@72b14c3a"
      ]
     },
     "execution_count": 1,
     "metadata": {},
     "output_type": "execute_result"
    }
   ],
   "source": [
    "class Human(name: String) {\n",
    "\n",
    "}\n",
    "\n",
    "class Child(name: String, age: Int) extends Human(name) {\n",
    "\n",
    "}\n",
    "\n",
    "class Student(name: String, age: Int) extends Child(name, age) {\n",
    "    var rollNo: Int = 25\n",
    "\n",
    "    def details(): Unit = {\n",
    "        println(s\"Name: $name, age: $age, Roll No.: $rollNo\")\n",
    "    }\n",
    "}\n",
    "\n",
    "val person: Student = new Student(\"Shraman\", 25)\n",
    "person.details()"
   ]
  },
  {
   "cell_type": "markdown",
   "metadata": {},
   "source": [
    "### Hierarchical Inheritance\n",
    "\n",
    "In Hierarchical Inheritance, one class serves as a superclass (base class) for more than one subclass."
   ]
  },
  {
   "cell_type": "code",
   "execution_count": 4,
   "metadata": {},
   "outputs": [
    {
     "name": "stdout",
     "output_type": "stream",
     "text": [
      " Name: Maddy\n",
      " Age: 25\n",
      " Name: Singh\n",
      " Height: 170\n"
     ]
    },
    {
     "data": {
      "text/plain": [
       "defined \u001b[32mclass\u001b[39m \u001b[36mHuman\u001b[39m\n",
       "defined \u001b[32mclass\u001b[39m \u001b[36mStudent1\u001b[39m\n",
       "defined \u001b[32mclass\u001b[39m \u001b[36mStudent2\u001b[39m\n",
       "\u001b[36mob1\u001b[39m: \u001b[32mStudent1\u001b[39m = ammonite.$sess.cmd4$Helper$Student1@411dbbab\n",
       "\u001b[36mob2\u001b[39m: \u001b[32mStudent2\u001b[39m = ammonite.$sess.cmd4$Helper$Student2@58e601f4"
      ]
     },
     "execution_count": 4,
     "metadata": {},
     "output_type": "execute_result"
    }
   ],
   "source": [
    "class Human\n",
    "{\n",
    "    var firstName: String = \"Maddy\"\n",
    "    var lastName: String = \"Singh\"\n",
    "}\n",
    " \n",
    "// Derived from the parent class\n",
    "class Student1 extends Human\n",
    "{\n",
    "    var Age: Int = 25\n",
    "    def details1(): Unit = {\n",
    "        println(\" Name: \" +firstName);\n",
    "        println(\" Age: \" +Age);\n",
    "    }\n",
    "}\n",
    " \n",
    "// Derived from Parent class\n",
    "class Student2 extends Human\n",
    "{\n",
    "    var Height: Int = 170\n",
    "     \n",
    "    // Method\n",
    "    def details2(): Unit = {\n",
    "        println(\" Name: \" +lastName);\n",
    "        println(\" Height: \" +Height);\n",
    "    }\n",
    "}\n",
    "\n",
    "val ob1 = new Student1();\n",
    "val ob2 = new Student2();\n",
    "ob1.details1();\n",
    "ob2.details2();"
   ]
  },
  {
   "cell_type": "markdown",
   "metadata": {},
   "source": [
    "#### Multiple Inheritance\n",
    "\n",
    "In Multiple inheritance ,one class can have more than one superclass and inherit features from all parent classes. Scala does not support multiple inheritance with classes, but it can be achieved by traits."
   ]
  },
  {
   "cell_type": "code",
   "execution_count": 6,
   "metadata": {},
   "outputs": [
    {
     "name": "stdout",
     "output_type": "stream",
     "text": [
      "Dog is sleeping\n",
      "Wakky wakky\n",
      "Woaf!!\n",
      "Hello, how are you today!!\n"
     ]
    },
    {
     "data": {
      "text/plain": [
       "defined \u001b[32mtrait\u001b[39m \u001b[36mAnimal\u001b[39m\n",
       "defined \u001b[32mclass\u001b[39m \u001b[36mDog\u001b[39m\n",
       "defined \u001b[32mtrait\u001b[39m \u001b[36mFriendly\u001b[39m\n",
       "defined \u001b[32mclass\u001b[39m \u001b[36mFriendlyDog\u001b[39m\n",
       "\u001b[36manimal\u001b[39m: \u001b[32mFriendlyDog\u001b[39m = ammonite.$sess.cmd6$Helper$FriendlyDog@88f66bc"
      ]
     },
     "execution_count": 6,
     "metadata": {},
     "output_type": "execute_result"
    }
   ],
   "source": [
    "trait Animal {\n",
    "    val name: String = \"Animal\"\n",
    "    // abstract\n",
    "    def speak(): String\n",
    "    // concrete\n",
    "    def sleep(): String = s\"$name is sleeping\"\n",
    "    def wake(): String\n",
    "\n",
    "}\n",
    "\n",
    "class Dog extends Animal {\n",
    "    override val name: String = \"Dog\"\n",
    "    def speak(): String = \"Woaf!!\"\n",
    "    def wake():String = \"Wakky wakky\"\n",
    "}\n",
    "\n",
    "trait Friendly {\n",
    "    def greet(): String = \"Hello, how are you today!!\"\n",
    "}\n",
    "\n",
    "// extending Dog class along with Friendly Trait\n",
    "class FriendlyDog extends Dog with Friendly {\n",
    "\n",
    "}\n",
    "\n",
    "val animal: FriendlyDog = new FriendlyDog()\n",
    "println(animal.sleep())\n",
    "println(animal.wake())\n",
    "println(animal.speak())\n",
    "println(animal.greet())"
   ]
  },
  {
   "cell_type": "markdown",
   "metadata": {},
   "source": []
  }
 ],
 "metadata": {
  "kernelspec": {
   "display_name": "Scala",
   "language": "scala",
   "name": "scala"
  },
  "language_info": {
   "codemirror_mode": "text/x-scala",
   "file_extension": ".sc",
   "mimetype": "text/x-scala",
   "name": "scala",
   "nbconvert_exporter": "script",
   "version": "2.13.14"
  }
 },
 "nbformat": 4,
 "nbformat_minor": 2
}
