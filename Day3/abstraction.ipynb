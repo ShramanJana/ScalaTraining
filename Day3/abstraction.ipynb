{
 "cells": [
  {
   "cell_type": "markdown",
   "metadata": {},
   "source": [
    "# Scala OOPS - Abstraction"
   ]
  },
  {
   "cell_type": "markdown",
   "metadata": {},
   "source": [
    "## Access Specifiers"
   ]
  },
  {
   "cell_type": "markdown",
   "metadata": {},
   "source": [
    "### Public Access\n",
    "\n",
    "By default, members in Scala are public if no access modifier is specified. This means they are accessible from anywhere."
   ]
  },
  {
   "cell_type": "code",
   "execution_count": 5,
   "metadata": {},
   "outputs": [
    {
     "name": "stdout",
     "output_type": "stream",
     "text": [
      "Scala\n"
     ]
    },
    {
     "data": {
      "text/plain": [
       "defined \u001b[32mclass\u001b[39m \u001b[36mExample\u001b[39m\n",
       "\u001b[36mobj\u001b[39m: \u001b[32mExample\u001b[39m = ammonite.$sess.cmd5$Helper$Example@1d93cecc"
      ]
     },
     "execution_count": 5,
     "metadata": {},
     "output_type": "execute_result"
    }
   ],
   "source": [
    "class Example {\n",
    "  val name = \"Scala\" // Public by default\n",
    "  def greet() = s\"Hello, $name!\"\n",
    "}\n",
    "\n",
    "val obj: Example = new Example()\n",
    "println(obj.name)"
   ]
  },
  {
   "cell_type": "markdown",
   "metadata": {},
   "source": [
    "### Private Access\n",
    "\n",
    "Members marked as private are accessible only within the class or object in which they are defined. They are not accessible from subclasses or other instances of the same class."
   ]
  },
  {
   "cell_type": "code",
   "execution_count": 8,
   "metadata": {},
   "outputs": [
    {
     "name": "stdout",
     "output_type": "stream",
     "text": [
      "And the secret is: Still wont tell you\n"
     ]
    },
    {
     "data": {
      "text/plain": [
       "defined \u001b[32mclass\u001b[39m \u001b[36mExample\u001b[39m\n",
       "\u001b[36mobj\u001b[39m: \u001b[32mExample\u001b[39m = ammonite.$sess.cmd8$Helper$Example@713ba4aa"
      ]
     },
     "execution_count": 8,
     "metadata": {},
     "output_type": "execute_result"
    }
   ],
   "source": [
    "class Example {\n",
    "  private val secret = \"Hidden\"\n",
    "  private def reveal() = s\"The secret is: $secret\"\n",
    "  def publicReveal() = s\"And the secret is: Still wont tell you\"\n",
    "}\n",
    "\n",
    "val obj: Example = new Example()\n",
    "println(obj.publicReveal())"
   ]
  },
  {
   "cell_type": "code",
   "execution_count": 7,
   "metadata": {},
   "outputs": [
    {
     "name": "stderr",
     "output_type": "stream",
     "text": [
      "cmd7.sc:1: value secret in class Example cannot be accessed as a member of cmd7.this.cmd6.Example from class Helper in class cmd7\n",
      "val res7 = println(obj.secret)\n",
      "                       ^\n",
      "Compilation Failed"
     ]
    }
   ],
   "source": [
    "println(obj.secret)"
   ]
  },
  {
   "cell_type": "markdown",
   "metadata": {},
   "source": [
    "### Protected Specifiers\n",
    "\n",
    "Members marked as protected are accessible only within the class they are defined in and in its subclasses. "
   ]
  },
  {
   "cell_type": "code",
   "execution_count": 10,
   "metadata": {},
   "outputs": [
    {
     "name": "stdout",
     "output_type": "stream",
     "text": [
      "Hello from Super!\n"
     ]
    },
    {
     "data": {
      "text/plain": [
       "defined \u001b[32mclass\u001b[39m \u001b[36mSuperClass\u001b[39m\n",
       "defined \u001b[32mclass\u001b[39m \u001b[36mSubClass\u001b[39m\n",
       "\u001b[36mobj\u001b[39m: \u001b[32mSubClass\u001b[39m = ammonite.$sess.cmd10$Helper$SubClass@737a821b"
      ]
     },
     "execution_count": 10,
     "metadata": {},
     "output_type": "execute_result"
    }
   ],
   "source": [
    "class SuperClass {\n",
    "  protected val name = \"Super\"\n",
    "}\n",
    "\n",
    "class SubClass extends SuperClass {\n",
    "  def greet() = s\"Hello from $name!\" // Accessible here\n",
    "}\n",
    "\n",
    "val obj: SubClass = new SubClass\n",
    "println(obj.greet())"
   ]
  },
  {
   "cell_type": "markdown",
   "metadata": {},
   "source": [
    "### Abstract classes\n",
    "\n",
    "A class with one or more abtract class is called an Abstract class. We can not instantiate an Abstract class."
   ]
  },
  {
   "cell_type": "code",
   "execution_count": 11,
   "metadata": {},
   "outputs": [
    {
     "data": {
      "text/plain": [
       "defined \u001b[32mclass\u001b[39m \u001b[36mAnimal\u001b[39m"
      ]
     },
     "execution_count": 11,
     "metadata": {},
     "output_type": "execute_result"
    }
   ],
   "source": [
    "abstract class Animal {\n",
    "  // Abstract method (no implementation)\n",
    "  def sound(): String\n",
    "  \n",
    "  // Concrete method (with implementation)\n",
    "  def eat(): Unit = {\n",
    "    println(\"Eating...\")\n",
    "  }\n",
    "}"
   ]
  },
  {
   "cell_type": "code",
   "execution_count": 13,
   "metadata": {},
   "outputs": [
    {
     "name": "stdout",
     "output_type": "stream",
     "text": [
      "Bark\n"
     ]
    },
    {
     "data": {
      "text/plain": [
       "defined \u001b[32mclass\u001b[39m \u001b[36mDog\u001b[39m\n",
       "\u001b[36manimal\u001b[39m: \u001b[32mAnimal\u001b[39m = ammonite.$sess.cmd13$Helper$Dog@6b36fe17"
      ]
     },
     "execution_count": 13,
     "metadata": {},
     "output_type": "execute_result"
    }
   ],
   "source": [
    "// Extending an Abstract class\n",
    "class Dog extends Animal {\n",
    "  // Implementing the abstract method\n",
    "  def sound(): String = \"Bark\"\n",
    "}\n",
    "\n",
    "val animal: Animal = new Dog\n",
    "println(animal.sound())\n"
   ]
  },
  {
   "cell_type": "markdown",
   "metadata": {},
   "source": []
  }
 ],
 "metadata": {
  "kernelspec": {
   "display_name": "Scala",
   "language": "scala",
   "name": "scala"
  },
  "language_info": {
   "codemirror_mode": "text/x-scala",
   "file_extension": ".sc",
   "mimetype": "text/x-scala",
   "name": "scala",
   "nbconvert_exporter": "script",
   "version": "2.13.14"
  }
 },
 "nbformat": 4,
 "nbformat_minor": 2
}
