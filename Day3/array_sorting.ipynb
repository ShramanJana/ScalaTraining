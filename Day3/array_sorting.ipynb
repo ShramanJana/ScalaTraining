{
 "cells": [
  {
   "cell_type": "markdown",
   "metadata": {},
   "source": [
    "# Bubble Sort"
   ]
  },
  {
   "cell_type": "code",
   "execution_count": 2,
   "metadata": {},
   "outputs": [
    {
     "name": "stdout",
     "output_type": "stream",
     "text": [
      "0\n",
      "5\n",
      "12\n",
      "32\n",
      "45\n",
      "76\n",
      "98\n"
     ]
    },
    {
     "data": {
      "text/plain": [
       "\u001b[36marr\u001b[39m: \u001b[32mArray\u001b[39m[\u001b[32mInt\u001b[39m] = \u001b[33mArray\u001b[39m(\u001b[32m0\u001b[39m, \u001b[32m5\u001b[39m, \u001b[32m12\u001b[39m, \u001b[32m32\u001b[39m, \u001b[32m45\u001b[39m, \u001b[32m76\u001b[39m, \u001b[32m98\u001b[39m)\n",
       "defined \u001b[32mfunction\u001b[39m \u001b[36mbubbleSort\u001b[39m"
      ]
     },
     "execution_count": 2,
     "metadata": {},
     "output_type": "execute_result"
    }
   ],
   "source": [
    "val arr: Array[Int] = Array(32, 45, 12, 98, 76, 0, 5)\n",
    "\n",
    "def bubbleSort(arr: Array[Int]): Unit = {\n",
    "    val n:Int = arr.length\n",
    "    for(i<- 0 until n) {\n",
    "        for(j <- i+1 until n) {\n",
    "            if(arr(i)>arr(j)) {\n",
    "                var temp = arr(i)\n",
    "                arr(i) = arr(j)\n",
    "                arr(j) = temp\n",
    "            }\n",
    "        }\n",
    "    }\n",
    "}\n",
    "\n",
    "bubbleSort(arr)\n",
    "for(x<-arr)\n",
    "    println(x)"
   ]
  },
  {
   "cell_type": "markdown",
   "metadata": {},
   "source": [
    "# Quick sort"
   ]
  },
  {
   "cell_type": "code",
   "execution_count": 18,
   "metadata": {},
   "outputs": [
    {
     "name": "stdout",
     "output_type": "stream",
     "text": [
      "-1\n",
      "0\n",
      "12\n",
      "5\n",
      "32\n",
      "45\n",
      "76\n",
      "98\n"
     ]
    },
    {
     "data": {
      "text/plain": [
       "\u001b[36marr\u001b[39m: \u001b[32mArray\u001b[39m[\u001b[32mInt\u001b[39m] = \u001b[33mArray\u001b[39m(\u001b[32m-1\u001b[39m, \u001b[32m0\u001b[39m, \u001b[32m12\u001b[39m, \u001b[32m5\u001b[39m, \u001b[32m32\u001b[39m, \u001b[32m45\u001b[39m, \u001b[32m76\u001b[39m, \u001b[32m98\u001b[39m)\n",
       "defined \u001b[32mfunction\u001b[39m \u001b[36mpartition\u001b[39m\n",
       "defined \u001b[32mfunction\u001b[39m \u001b[36mquickSort\u001b[39m"
      ]
     },
     "execution_count": 18,
     "metadata": {},
     "output_type": "execute_result"
    }
   ],
   "source": [
    "val arr: Array[Int] = Array(32, 45, 12, 98, 76, 0, 5, -1)\n",
    "\n",
    "def partition(arr: Array[Int], l: Int, r: Int): Int = {\n",
    "    var i: Int = l\n",
    "    var index = r\n",
    "    for(j<- l until r) {\n",
    "        if(arr(j)<arr(index)) {\n",
    "            var temp:Int = arr(i)\n",
    "            arr(i) = arr(j)\n",
    "            arr(j) = temp\n",
    "            i+=1\n",
    "        }\n",
    "    }\n",
    "\n",
    "    var temp:Int = arr(index)\n",
    "    arr(index) = arr(i)\n",
    "    arr(i) = temp\n",
    "    return i-1\n",
    "}\n",
    "def quickSort(arr: Array[Int], l: Int, r: Int): Unit = {\n",
    "    if(l<r) {\n",
    "        val index:Int = partition(arr, l, r)\n",
    "        quickSort(arr, l, index-1)\n",
    "        quickSort(arr, index+1, r)\n",
    "    }\n",
    "}\n",
    "\n",
    "quickSort(arr, 0, arr.length-1)\n",
    "for(x<-arr)\n",
    "    println(x)"
   ]
  },
  {
   "cell_type": "markdown",
   "metadata": {},
   "source": [
    "# Heap Sort"
   ]
  },
  {
   "cell_type": "code",
   "execution_count": 10,
   "metadata": {},
   "outputs": [
    {
     "name": "stdout",
     "output_type": "stream",
     "text": [
      "0\n",
      "5\n",
      "12\n",
      "32\n",
      "45\n",
      "76\n",
      "98\n"
     ]
    },
    {
     "data": {
      "text/plain": [
       "\u001b[36marr\u001b[39m: \u001b[32mArray\u001b[39m[\u001b[32mInt\u001b[39m] = \u001b[33mArray\u001b[39m(\u001b[32m0\u001b[39m, \u001b[32m5\u001b[39m, \u001b[32m12\u001b[39m, \u001b[32m32\u001b[39m, \u001b[32m45\u001b[39m, \u001b[32m76\u001b[39m, \u001b[32m98\u001b[39m)\n",
       "defined \u001b[32mfunction\u001b[39m \u001b[36mheapify\u001b[39m\n",
       "defined \u001b[32mfunction\u001b[39m \u001b[36mbuildHeap\u001b[39m\n",
       "defined \u001b[32mfunction\u001b[39m \u001b[36mheapSort\u001b[39m"
      ]
     },
     "execution_count": 10,
     "metadata": {},
     "output_type": "execute_result"
    }
   ],
   "source": [
    "val arr: Array[Int] = Array(32, 45, 12, 98, 76, 0, 5)\n",
    "\n",
    "def heapify(arr: Array[Int], i: Int, n: Int): Unit = {\n",
    "    var largest: Int = i\n",
    "    var left: Int = 2*i+1\n",
    "    var right: Int = 2*i+2\n",
    "\n",
    "    if(left<n && arr(largest)<arr(left))\n",
    "        largest = left\n",
    "    if(right<n && arr(largest)<arr(right))\n",
    "        largest = right\n",
    "    \n",
    "    if(largest!=i) {\n",
    "        var temp:Int = arr(largest)\n",
    "        arr(largest) = arr(i)\n",
    "        arr(i) = temp\n",
    "\n",
    "        heapify(arr, largest, n)\n",
    "    }\n",
    "}\n",
    "\n",
    "def buildHeap(arr: Array[Int], n: Int): Unit = {\n",
    "    for(i <- (n/2)-1 to 0 by -1) {\n",
    "        heapify(arr, i, n)\n",
    "    }\n",
    "}\n",
    "\n",
    "def heapSort(arr: Array[Int]): Unit = {\n",
    "    val n: Int = arr.length\n",
    "    buildHeap(arr, n)\n",
    "\n",
    "    for(i<- n-1 to 0 by -1) {\n",
    "        var temp:Int = arr(i)\n",
    "        arr(i) = arr(0)\n",
    "        arr(0) = temp\n",
    "\n",
    "        heapify(arr, 0, i)\n",
    "    }\n",
    "}\n",
    "\n",
    "heapSort(arr)\n",
    "for(x<-arr)\n",
    "    println(x)"
   ]
  },
  {
   "cell_type": "markdown",
   "metadata": {},
   "source": [
    "# Insertion sort"
   ]
  },
  {
   "cell_type": "code",
   "execution_count": 14,
   "metadata": {},
   "outputs": [
    {
     "name": "stdout",
     "output_type": "stream",
     "text": [
      "0\n",
      "5\n",
      "12\n",
      "32\n",
      "45\n",
      "76\n",
      "98\n"
     ]
    },
    {
     "data": {
      "text/plain": [
       "\u001b[36marr\u001b[39m: \u001b[32mArray\u001b[39m[\u001b[32mInt\u001b[39m] = \u001b[33mArray\u001b[39m(\u001b[32m0\u001b[39m, \u001b[32m5\u001b[39m, \u001b[32m12\u001b[39m, \u001b[32m32\u001b[39m, \u001b[32m45\u001b[39m, \u001b[32m76\u001b[39m, \u001b[32m98\u001b[39m)\n",
       "defined \u001b[32mfunction\u001b[39m \u001b[36minsertionSort\u001b[39m"
      ]
     },
     "execution_count": 14,
     "metadata": {},
     "output_type": "execute_result"
    }
   ],
   "source": [
    "val arr: Array[Int] = Array(32, 45, 12, 98, 76, 0, 5)\n",
    "\n",
    "def insertionSort(arr: Array[Int]): Unit = {\n",
    "    val n:Int = arr.length\n",
    "    for(i<- 1 until n) {\n",
    "        var j: Int = i-1\n",
    "        var temp:Int = arr(i)\n",
    "        while(j>=0 && arr(j)>temp) {\n",
    "            arr(j+1) = arr(j)\n",
    "            j-=1\n",
    "        }\n",
    "        arr(j+1) = temp\n",
    "    }\n",
    "}\n",
    "\n",
    "insertionSort(arr)\n",
    "for(x<-arr)\n",
    "    println(x)"
   ]
  },
  {
   "cell_type": "markdown",
   "metadata": {},
   "source": [
    "# Selection Sort"
   ]
  },
  {
   "cell_type": "code",
   "execution_count": 17,
   "metadata": {},
   "outputs": [
    {
     "name": "stdout",
     "output_type": "stream",
     "text": [
      "0\n",
      "5\n",
      "12\n",
      "32\n",
      "45\n",
      "76\n",
      "98\n"
     ]
    },
    {
     "data": {
      "text/plain": [
       "\u001b[36marr\u001b[39m: \u001b[32mArray\u001b[39m[\u001b[32mInt\u001b[39m] = \u001b[33mArray\u001b[39m(\u001b[32m0\u001b[39m, \u001b[32m5\u001b[39m, \u001b[32m12\u001b[39m, \u001b[32m32\u001b[39m, \u001b[32m45\u001b[39m, \u001b[32m76\u001b[39m, \u001b[32m98\u001b[39m)\n",
       "defined \u001b[32mfunction\u001b[39m \u001b[36mselectionSort\u001b[39m"
      ]
     },
     "execution_count": 17,
     "metadata": {},
     "output_type": "execute_result"
    }
   ],
   "source": [
    "val arr: Array[Int] = Array(32, 45, 12, 98, 76, 0, 5)\n",
    "\n",
    "def selectionSort(arr: Array[Int]): Unit = {\n",
    "    val n:Int = arr.length\n",
    "    for(i<- 0 until n) {\n",
    "        var mini:Int = i\n",
    "        for(j<- i+1 until n) {\n",
    "            if(arr(j)<arr(mini)) {\n",
    "                mini = j\n",
    "            }\n",
    "        }\n",
    "\n",
    "        if(mini!=i) {\n",
    "            var temp:Int = arr(i)\n",
    "            arr(i) = arr(mini)\n",
    "            arr(mini) = temp\n",
    "        }\n",
    "    }\n",
    "}\n",
    "\n",
    "selectionSort(arr)\n",
    "for(x<-arr)\n",
    "    println(x)"
   ]
  },
  {
   "cell_type": "code",
   "execution_count": null,
   "metadata": {},
   "outputs": [],
   "source": []
  }
 ],
 "metadata": {
  "kernelspec": {
   "display_name": "Scala",
   "language": "scala",
   "name": "scala"
  },
  "language_info": {
   "codemirror_mode": "text/x-scala",
   "file_extension": ".sc",
   "mimetype": "text/x-scala",
   "name": "scala",
   "nbconvert_exporter": "script",
   "version": "2.13.14"
  }
 },
 "nbformat": 4,
 "nbformat_minor": 2
}
