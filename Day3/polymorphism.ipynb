{
 "cells": [
  {
   "cell_type": "markdown",
   "metadata": {},
   "source": [
    "1. Constructor overlooading\n",
    "2. Emthod overloading, overriding\n",
    "3. Method with default parameters\n",
    "4. Method with variable number of parameters"
   ]
  },
  {
   "cell_type": "markdown",
   "metadata": {},
   "source": [
    "# Scala OOPS - Polymorphism"
   ]
  },
  {
   "cell_type": "markdown",
   "metadata": {},
   "source": [
    "Polymorphism is the ability of any data to be processed in more than one form. Scala implements polymorphism through virtual functions, overloaded functions and overloaded operators. Polymorphism is one of the most important concept of object oriented programming language. The most common use of polymorphism in object oriented programming occurs when a parent class reference is used to refer to a child class object."
   ]
  },
  {
   "cell_type": "markdown",
   "metadata": {},
   "source": [
    "### Method Overloading"
   ]
  },
  {
   "cell_type": "code",
   "execution_count": 17,
   "metadata": {},
   "outputs": [
    {
     "name": "stdout",
     "output_type": "stream",
     "text": [
      "Vehicle is moving at average speed\n",
      "Vehicle is moving at a speed of 30 km/h\n",
      "Vehicle is moving at a speed of 50 km/h and at acceleration of 5.0 per hour\n",
      "->I->Am->Groot->From->Guardians->Of->The->Galaxy\n"
     ]
    },
    {
     "data": {
      "text/plain": [
       "defined \u001b[32mclass\u001b[39m \u001b[36mVehicle\u001b[39m\n",
       "\u001b[36mobj\u001b[39m: \u001b[32mVehicle\u001b[39m = ammonite.$sess.cmd17$Helper$Vehicle@53dc99a"
      ]
     },
     "execution_count": 17,
     "metadata": {},
     "output_type": "execute_result"
    }
   ],
   "source": [
    "class Vehicle {\n",
    "\n",
    "    def drive(): String = s\"Vehicle is moving at average speed\"\n",
    "    \n",
    "    // different number of parameters\n",
    "    def drive(spd: Int): String = s\"Vehicle is moving at a speed of $spd km/h\"\n",
    "\n",
    "    def drive(spd: Int, acc: Double): String = s\"Vehicle is moving at a speed of $spd km/h and at acceleration of $acc per hour\"\n",
    "\n",
    "    // Variable arguments\n",
    "    def drive(strings: String*): String = {\n",
    "        var ans: String = \"\"\n",
    "\n",
    "        strings.foreach( str => ans+=\"->\"+str)\n",
    "        return ans\n",
    "    }\n",
    "\n",
    "    \n",
    "}\n",
    "\n",
    "val obj: Vehicle = new Vehicle\n",
    "\n",
    "println(obj.drive())\n",
    "println(obj.drive(30))\n",
    "println(obj.drive(50, 5))\n",
    "println(obj.drive(\"I\", \"Am\", \"Groot\", \"From\", \"Guardians\", \"Of\", \"The\", \"Galaxy\"))"
   ]
  },
  {
   "cell_type": "markdown",
   "metadata": {},
   "source": [
    "### Method Overriding"
   ]
  },
  {
   "cell_type": "code",
   "execution_count": 16,
   "metadata": {},
   "outputs": [
    {
     "name": "stdout",
     "output_type": "stream",
     "text": [
      "Area of a circle is: 314.1592653589793\n",
      "Area of a rectangle is: 200.0\n"
     ]
    },
    {
     "data": {
      "text/plain": [
       "defined \u001b[32mclass\u001b[39m \u001b[36mShape\u001b[39m\n",
       "defined \u001b[32mclass\u001b[39m \u001b[36mCircle\u001b[39m\n",
       "defined \u001b[32mclass\u001b[39m \u001b[36mRectangle\u001b[39m\n",
       "\u001b[36mshape1\u001b[39m: \u001b[32mShape\u001b[39m = ammonite.$sess.cmd16$Helper$Circle@18f777c3\n",
       "\u001b[36mshape2\u001b[39m: \u001b[32mShape\u001b[39m = ammonite.$sess.cmd16$Helper$Rectangle@3bd0b08a"
      ]
     },
     "execution_count": 16,
     "metadata": {},
     "output_type": "execute_result"
    }
   ],
   "source": [
    "class Shape {\n",
    "  def area(): Double = 0.0\n",
    "}\n",
    " \n",
    "class Circle(radius: Double) extends Shape {\n",
    "  override def area(): Double = math.Pi * radius * radius\n",
    "}\n",
    " \n",
    "class Rectangle(length: Double, width: Double) extends Shape {\n",
    "  override def area(): Double = length * width\n",
    "}\n",
    "\n",
    "\n",
    "val shape1: Shape = new Circle(10)\n",
    "println(s\"Area of a circle is: ${shape1.area()}\")\n",
    "\n",
    "val shape2: Shape = new Rectangle(10, 20)\n",
    "println(s\"Area of a rectangle is: ${shape2.area()}\")"
   ]
  },
  {
   "cell_type": "markdown",
   "metadata": {},
   "source": [
    "### Default parameters\n",
    "\n",
    "Default parameters allows to define default values for function parameters. If a parameter with a default value is not provided when the function is called, Scala will use the specified default value."
   ]
  },
  {
   "cell_type": "code",
   "execution_count": 18,
   "metadata": {},
   "outputs": [
    {
     "name": "stdout",
     "output_type": "stream",
     "text": [
      "Hello there!, I am Maddy and I am 30 years old. Pleasure meeting you\n",
      "Hello there!, I am Shraman and I am 30 years old. Pleasure meeting you\n",
      "Hello there!, I am Maddy and I am 30 years old. Pleasure meeting you\n",
      "Hello there!, I am Shraman and I am 30 years old. Pleasure meeting you\n"
     ]
    },
    {
     "data": {
      "text/plain": [
       "defined \u001b[32mfunction\u001b[39m \u001b[36mgiveIntro\u001b[39m"
      ]
     },
     "execution_count": 18,
     "metadata": {},
     "output_type": "execute_result"
    }
   ],
   "source": [
    "def giveIntro(name: String = \"Maddy\", age: Int = 30): String = {\n",
    "    s\"Hello there!, I am $name and I am $age years old. Pleasure meeting you\"\n",
    "}\n",
    "\n",
    "println(giveIntro())\n",
    "println(giveIntro(\"Shraman\"))\n",
    "println(giveIntro(age = 30))\n",
    "println(giveIntro(\"Shraman\", 30))"
   ]
  },
  {
   "cell_type": "markdown",
   "metadata": {},
   "source": [
    "### Operator Overloading"
   ]
  },
  {
   "cell_type": "code",
   "execution_count": 22,
   "metadata": {},
   "outputs": [
    {
     "name": "stdout",
     "output_type": "stream",
     "text": [
      "Original price: 500\n",
      "Price after 20% hike: 600\n"
     ]
    },
    {
     "data": {
      "text/plain": [
       "defined \u001b[32mclass\u001b[39m \u001b[36mEnhancedInt2\u001b[39m\n",
       "\u001b[36mresult\u001b[39m: \u001b[32mInt\u001b[39m = \u001b[32m500\u001b[39m"
      ]
     },
     "execution_count": 22,
     "metadata": {},
     "output_type": "execute_result"
    }
   ],
   "source": [
    "implicit class EnhancedInt2(x: Int) {\n",
    "    def @%(discount: Int): Int = x +(x*discount / 100)\n",
    "}\n",
    "val result: Int = 500\n",
    "println(s\"Original price: $result\")\n",
    "println(s\"Price after 20% hike: ${ result@%20 }\")"
   ]
  },
  {
   "cell_type": "markdown",
   "metadata": {},
   "source": []
  }
 ],
 "metadata": {
  "kernelspec": {
   "display_name": "Scala",
   "language": "scala",
   "name": "scala"
  },
  "language_info": {
   "codemirror_mode": "text/x-scala",
   "file_extension": ".sc",
   "mimetype": "text/x-scala",
   "name": "scala",
   "nbconvert_exporter": "script",
   "version": "2.13.14"
  }
 },
 "nbformat": 4,
 "nbformat_minor": 2
}
