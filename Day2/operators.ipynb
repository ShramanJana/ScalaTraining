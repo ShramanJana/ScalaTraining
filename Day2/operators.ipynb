{
 "cells": [
  {
   "cell_type": "markdown",
   "metadata": {},
   "source": [
    "# Operators"
   ]
  },
  {
   "cell_type": "markdown",
   "metadata": {},
   "source": [
    "### Arithmetic Operators\n",
    "\n",
    "The basic arithmetic operators scala provides are +, -, *, /, %, **"
   ]
  },
  {
   "cell_type": "code",
   "execution_count": 2,
   "metadata": {},
   "outputs": [
    {
     "name": "stdout",
     "output_type": "stream",
     "text": [
      "The addition of two number is 146\n",
      "The substraction of two number is 12\n",
      "The multiplication of two number is 5293\n",
      "The division of two number is 1\n",
      "The remainder of two number is 12\n"
     ]
    },
    {
     "data": {
      "text/plain": [
       "\u001b[36mx\u001b[39m: \u001b[32mInt\u001b[39m = \u001b[32m79\u001b[39m\n",
       "\u001b[36my\u001b[39m: \u001b[32mInt\u001b[39m = \u001b[32m67\u001b[39m"
      ]
     },
     "execution_count": 2,
     "metadata": {},
     "output_type": "execute_result"
    }
   ],
   "source": [
    "val x:Int = 79\n",
    "val y:Int = 67\n",
    "\n",
    "println(s\"The addition of two number is ${x+y}\")\n",
    "println(s\"The substraction of two number is ${x-y}\")\n",
    "println(s\"The multiplication of two number is ${x*y}\")\n",
    "println(s\"The division of two number is ${x/y}\")\n",
    "println(s\"The remainder of two number is ${x%y}\")"
   ]
  },
  {
   "cell_type": "markdown",
   "metadata": {},
   "source": [
    "### Relational Operators\n",
    "\n",
    "Few examples for relational operators are ==, !=, <, >, <=, >="
   ]
  },
  {
   "cell_type": "code",
   "execution_count": 5,
   "metadata": {},
   "outputs": [
    {
     "name": "stdout",
     "output_type": "stream",
     "text": [
      "The Equals value of x==y is false\n",
      "The Not Equals  value of x!=y is true\n",
      "The Less than value of x<y is false\n",
      "The Greater than value of x>y is true\n",
      "The Less than Equals to value of x<=y is false\n",
      "The Greater than Equals to value of x>=y is true\n"
     ]
    }
   ],
   "source": [
    "println(s\"The Equals value of x==y is ${x==y}\")\n",
    "println(s\"The Not Equals  value of x!=y is ${x!=y}\")\n",
    "println(s\"The Less than value of x<y is ${x<y}\")\n",
    "println(s\"The Greater than value of x>y is ${x>y}\")\n",
    "println(s\"The Less than Equals to value of x<=y is ${x<=y}\")\n",
    "println(s\"The Greater than Equals to value of x>=y is ${x>=y}\")"
   ]
  },
  {
   "cell_type": "markdown",
   "metadata": {},
   "source": [
    "### Logical Operators\n",
    "\n",
    "Logical operators include Logical OR (||), Logical AND (&&) and Logical NOT (!)"
   ]
  },
  {
   "cell_type": "code",
   "execution_count": 6,
   "metadata": {},
   "outputs": [
    {
     "name": "stdout",
     "output_type": "stream",
     "text": [
      "The logical OR of a and b equals true\n",
      "The logical AND of a and b equals false\n",
      "The logical NOT of previous expression equals true\n"
     ]
    },
    {
     "data": {
      "text/plain": [
       "\u001b[36ma\u001b[39m: \u001b[32mBoolean\u001b[39m = \u001b[32mtrue\u001b[39m\n",
       "\u001b[36mb\u001b[39m: \u001b[32mBoolean\u001b[39m = \u001b[32mfalse\u001b[39m"
      ]
     },
     "execution_count": 6,
     "metadata": {},
     "output_type": "execute_result"
    }
   ],
   "source": [
    "val a: Boolean = true\n",
    "val b: Boolean = false\n",
    "\n",
    "println(s\"The logical OR of a and b equals ${a||b}\")\n",
    "println(s\"The logical AND of a and b equals ${a&&b}\")\n",
    "println(s\"The logical NOT of previous expression equals ${!(a&&b)}\")"
   ]
  },
  {
   "cell_type": "markdown",
   "metadata": {},
   "source": [
    "### Bitwise Operator\n",
    "\n",
    "Used to manipulate bits of Integers, these operator include Bitwise OR (|), Bitwise AND (&), 1's compliment (~), XOR(^), Left Shift (<<), and Right Shift (>>) operators"
   ]
  },
  {
   "cell_type": "code",
   "execution_count": 20,
   "metadata": {},
   "outputs": [
    {
     "name": "stdout",
     "output_type": "stream",
     "text": [
      "The Bitwise OR of x and y equals 53\n",
      "The Bitwise AND of x and y equals 5\n",
      "The Bitwise XOR of x and y equals 48\n",
      "The 1's compliment of x equals -22\n",
      "Left shifting x by 3 equals 168\n",
      "Right shifting y by 2 equals 9\n"
     ]
    },
    {
     "data": {
      "text/plain": [
       "\u001b[36mx\u001b[39m: \u001b[32mInt\u001b[39m = \u001b[32m21\u001b[39m\n",
       "\u001b[36my\u001b[39m: \u001b[32mInt\u001b[39m = \u001b[32m37\u001b[39m"
      ]
     },
     "execution_count": 20,
     "metadata": {},
     "output_type": "execute_result"
    }
   ],
   "source": [
    "val x: Int = 21\n",
    "val y: Int = 37\n",
    "\n",
    "println(s\"The Bitwise OR of x and y equals ${x | y}\")\n",
    "println(s\"The Bitwise AND of x and y equals ${x & y}\")\n",
    "println(s\"The Bitwise XOR of x and y equals ${x ^ y}\")\n",
    "println(s\"The 1's compliment of x equals ${~x}\")\n",
    "println(s\"Left shifting x by 3 equals ${x << 3}\")\n",
    "println(s\"Right shifting y by 2 equals ${y >> 2}\")"
   ]
  },
  {
   "cell_type": "markdown",
   "metadata": {},
   "source": [
    "### Assignment Operators\n",
    "\n",
    "Few assignment operators are mentioned below. Ther are used as shorthand to update self value by a factor."
   ]
  },
  {
   "cell_type": "code",
   "execution_count": 26,
   "metadata": {},
   "outputs": [
    {
     "name": "stdout",
     "output_type": "stream",
     "text": [
      "Original value of a is 10\n",
      "Incrementing a by 10 equals 20\n",
      "Multiplying a by 9 equals 180\n",
      "Bitwise AND of a with 17 equals 16\n",
      "Dividing a by 2 equals 8\n"
     ]
    },
    {
     "data": {
      "text/html": [
       "<div class=\"jp-RenderedText\">\n",
       "<pre><code><span style=\"color: rgb(0, 187, 187)\"><span class=\"ansi-cyan-fg\">a</span></span>: <span style=\"color: rgb(0, 187, 0)\"><span class=\"ansi-green-fg\">Int</span></span> = <span style=\"color: rgb(0, 187, 0)\"><span class=\"ansi-green-fg\">8</span></span></code></pre>\n",
       "</div>"
      ],
      "text/plain": [
       "\u001b[36ma\u001b[39m: \u001b[32mInt\u001b[39m = \u001b[32m8\u001b[39m"
      ]
     },
     "metadata": {},
     "output_type": "display_data"
    }
   ],
   "source": [
    "var a = 10\n",
    "println(s\"Original value of a is $a\")\n",
    "\n",
    "a+=10\n",
    "println(s\"Incrementing a by 10 equals $a\")\n",
    "\n",
    "a*=9\n",
    "println(s\"Multiplying a by 9 equals $a\")\n",
    "\n",
    "a&=17\n",
    "println(s\"Bitwise AND of a with 17 equals $a\")\n",
    "\n",
    "a/=2\n",
    "println(s\"Dividing a by 2 equals $a\")"
   ]
  },
  {
   "cell_type": "code",
   "execution_count": null,
   "metadata": {},
   "outputs": [],
   "source": []
  }
 ],
 "metadata": {
  "kernelspec": {
   "display_name": "Scala",
   "language": "scala",
   "name": "scala"
  },
  "language_info": {
   "codemirror_mode": "text/x-scala",
   "file_extension": ".sc",
   "mimetype": "text/x-scala",
   "name": "scala",
   "nbconvert_exporter": "script",
   "version": "2.13.14"
  }
 },
 "nbformat": 4,
 "nbformat_minor": 2
}
