{
 "cells": [
  {
   "cell_type": "markdown",
   "metadata": {},
   "source": [
    "### Task 1"
   ]
  },
  {
   "cell_type": "code",
   "execution_count": 22,
   "metadata": {},
   "outputs": [
    {
     "data": {
      "text/plain": [
       "defined \u001b[32mclass\u001b[39m \u001b[36mStudent\u001b[39m\n",
       "\u001b[36ms1\u001b[39m: \u001b[32mStudent\u001b[39m = \u001b[33mStudent\u001b[39m(sno = \u001b[32m1\u001b[39m, sname = \u001b[32m\"Mark\"\u001b[39m, score = \u001b[32m56\u001b[39m)\n",
       "\u001b[36ms2\u001b[39m: \u001b[32mStudent\u001b[39m = \u001b[33mStudent\u001b[39m(sno = \u001b[32m2\u001b[39m, sname = \u001b[32m\"Henry\"\u001b[39m, score = \u001b[32m98\u001b[39m)\n",
       "\u001b[36ms3\u001b[39m: \u001b[32mStudent\u001b[39m = \u001b[33mStudent\u001b[39m(sno = \u001b[32m3\u001b[39m, sname = \u001b[32m\"Sam\"\u001b[39m, score = \u001b[32m78\u001b[39m)\n",
       "\u001b[36ms4\u001b[39m: \u001b[32mStudent\u001b[39m = \u001b[33mStudent\u001b[39m(sno = \u001b[32m4\u001b[39m, sname = \u001b[32m\"Sid\"\u001b[39m, score = \u001b[32m64\u001b[39m)\n",
       "\u001b[36ms5\u001b[39m: \u001b[32mStudent\u001b[39m = \u001b[33mStudent\u001b[39m(sno = \u001b[32m5\u001b[39m, sname = \u001b[32m\"Bob\"\u001b[39m, score = \u001b[32m34\u001b[39m)\n",
       "\u001b[36ms6\u001b[39m: \u001b[32mStudent\u001b[39m = \u001b[33mStudent\u001b[39m(sno = \u001b[32m6\u001b[39m, sname = \u001b[32m\"Alice\"\u001b[39m, score = \u001b[32m43\u001b[39m)\n",
       "\u001b[36ms7\u001b[39m: \u001b[32mStudent\u001b[39m = \u001b[33mStudent\u001b[39m(sno = \u001b[32m7\u001b[39m, sname = \u001b[32m\"Neil\"\u001b[39m, score = \u001b[32m89\u001b[39m)\n",
       "\u001b[36ms8\u001b[39m: \u001b[32mStudent\u001b[39m = \u001b[33mStudent\u001b[39m(sno = \u001b[32m8\u001b[39m, sname = \u001b[32m\"Daniel\"\u001b[39m, score = \u001b[32m65\u001b[39m)\n",
       "\u001b[36mstudentList\u001b[39m: \u001b[32mList\u001b[39m[\u001b[32mStudent\u001b[39m] = \u001b[33mList\u001b[39m(\n",
       "  \u001b[33mStudent\u001b[39m(sno = \u001b[32m1\u001b[39m, sname = \u001b[32m\"Mark\"\u001b[39m, score = \u001b[32m56\u001b[39m),\n",
       "  \u001b[33mStudent\u001b[39m(sno = \u001b[32m2\u001b[39m, sname = \u001b[32m\"Henry\"\u001b[39m, score = \u001b[32m98\u001b[39m),\n",
       "  \u001b[33mStudent\u001b[39m(sno = \u001b[32m3\u001b[39m, sname = \u001b[32m\"Sam\"\u001b[39m, score = \u001b[32m78\u001b[39m),\n",
       "  \u001b[33mStudent\u001b[39m(sno = \u001b[32m4\u001b[39m, sname = \u001b[32m\"Sid\"\u001b[39m, score = \u001b[32m64\u001b[39m),\n",
       "  \u001b[33mStudent\u001b[39m(sno = \u001b[32m5\u001b[39m, sname = \u001b[32m\"Bob\"\u001b[39m, score = \u001b[32m34\u001b[39m),\n",
       "  \u001b[33mStudent\u001b[39m(sno = \u001b[32m6\u001b[39m, sname = \u001b[32m\"Alice\"\u001b[39m, score = \u001b[32m43\u001b[39m),\n",
       "  \u001b[33mStudent\u001b[39m(sno = \u001b[32m7\u001b[39m, sname = \u001b[32m\"Neil\"\u001b[39m, score = \u001b[32m89\u001b[39m),\n",
       "  \u001b[33mStudent\u001b[39m(sno = \u001b[32m8\u001b[39m, sname = \u001b[32m\"Daniel\"\u001b[39m, score = \u001b[32m65\u001b[39m)\n",
       ")"
      ]
     },
     "execution_count": 22,
     "metadata": {},
     "output_type": "execute_result"
    }
   ],
   "source": [
    "case class Student(sno: Int, sname: String, score: Int)\n",
    "\n",
    "val s1: Student = Student(1, \"Mark\", 56)\n",
    "val s2: Student = Student(2, \"Henry\", 98)\n",
    "val s3: Student = Student(3, \"Sam\", 78)\n",
    "val s4: Student = Student(4, \"Sid\", 64)\n",
    "val s5: Student = Student(5, \"Bob\", 34)\n",
    "val s6: Student = Student(6, \"Alice\", 43)\n",
    "val s7: Student = Student(7, \"Neil\", 89)\n",
    "val s8: Student = Student(8, \"Daniel\", 65)\n",
    "\n",
    "val studentList = List(s1, s2, s3, s4, s5, s6, s7, s8)"
   ]
  },
  {
   "cell_type": "markdown",
   "metadata": {},
   "source": [
    "### Task 2"
   ]
  },
  {
   "cell_type": "code",
   "execution_count": 23,
   "metadata": {},
   "outputs": [
    {
     "data": {
      "text/plain": [
       "defined \u001b[32mclass\u001b[39m \u001b[36mstudentListFilter\u001b[39m\n",
       "\u001b[36mres23_1\u001b[39m: \u001b[32mList\u001b[39m[\u001b[32mStudent\u001b[39m] = \u001b[33mList\u001b[39m(\n",
       "  \u001b[33mStudent\u001b[39m(sno = \u001b[32m2\u001b[39m, sname = \u001b[32m\"Henry\"\u001b[39m, score = \u001b[32m98\u001b[39m),\n",
       "  \u001b[33mStudent\u001b[39m(sno = \u001b[32m3\u001b[39m, sname = \u001b[32m\"Sam\"\u001b[39m, score = \u001b[32m78\u001b[39m),\n",
       "  \u001b[33mStudent\u001b[39m(sno = \u001b[32m7\u001b[39m, sname = \u001b[32m\"Neil\"\u001b[39m, score = \u001b[32m89\u001b[39m)\n",
       ")"
      ]
     },
     "execution_count": 23,
     "metadata": {},
     "output_type": "execute_result"
    }
   ],
   "source": [
    "implicit class studentListFilter(studentList: List[Student]) {\n",
    "    def %>(cutOff: Int): List[Student] = {\n",
    "        studentList.filter(_.score>cutOff)\n",
    "    }\n",
    "\n",
    "    def %<(cutOff: Int): List[Student] = {\n",
    "        studentList.filter(_.score<cutOff)\n",
    "    }\n",
    "}\n",
    "\n",
    "studentList%>70"
   ]
  },
  {
   "cell_type": "code",
   "execution_count": 24,
   "metadata": {},
   "outputs": [
    {
     "data": {
      "text/plain": [
       "\u001b[36mres24\u001b[39m: \u001b[32mList\u001b[39m[\u001b[32mStudent\u001b[39m] = \u001b[33mList\u001b[39m(\n",
       "  \u001b[33mStudent\u001b[39m(sno = \u001b[32m1\u001b[39m, sname = \u001b[32m\"Mark\"\u001b[39m, score = \u001b[32m56\u001b[39m),\n",
       "  \u001b[33mStudent\u001b[39m(sno = \u001b[32m5\u001b[39m, sname = \u001b[32m\"Bob\"\u001b[39m, score = \u001b[32m34\u001b[39m),\n",
       "  \u001b[33mStudent\u001b[39m(sno = \u001b[32m6\u001b[39m, sname = \u001b[32m\"Alice\"\u001b[39m, score = \u001b[32m43\u001b[39m)\n",
       ")"
      ]
     },
     "execution_count": 24,
     "metadata": {},
     "output_type": "execute_result"
    }
   ],
   "source": [
    "studentList%<60"
   ]
  },
  {
   "cell_type": "markdown",
   "metadata": {},
   "source": [
    "### Task 3"
   ]
  },
  {
   "cell_type": "code",
   "execution_count": 25,
   "metadata": {},
   "outputs": [
    {
     "data": {
      "text/plain": [
       "\u001b[32mimport \u001b[39m\u001b[36mscala.language.implicitConversions\u001b[39m\n",
       "\u001b[32mimport \u001b[39m\u001b[36mscala.collection.mutable.ListBuffer\u001b[39m\n",
       "defined \u001b[32mfunction\u001b[39m \u001b[36mtupeToStudent\u001b[39m\n",
       "defined \u001b[32mclass\u001b[39m \u001b[36mStudentOps\u001b[39m"
      ]
     },
     "execution_count": 25,
     "metadata": {},
     "output_type": "execute_result"
    }
   ],
   "source": [
    "import scala.language.implicitConversions\n",
    "import scala.collection.mutable.ListBuffer\n",
    "\n",
    "implicit def tupeToStudent(tuple: (Int, String, Int)): Student = {\n",
    "    Student(tuple._1, tuple._2, tuple._3)\n",
    "}\n",
    "\n",
    "implicit class StudentOps(studentList: ListBuffer[Student]) {\n",
    "    def print(): Unit = {\n",
    "        println(\"==============================\")\n",
    "        studentList.map(s => println(s\"Student ${s.sname} having roll number ${s.sno} got ${s.score} marks\"))\n",
    "    }\n",
    "\n",
    "    def add(student: Student): Unit = {\n",
    "        studentList += student\n",
    "    }\n",
    "}"
   ]
  },
  {
   "cell_type": "code",
   "execution_count": 26,
   "metadata": {},
   "outputs": [
    {
     "name": "stdout",
     "output_type": "stream",
     "text": [
      "==============================\n",
      "Student Mark having roll number 1 got 56 marks\n",
      "Student Henry having roll number 2 got 98 marks\n",
      "Student Sam having roll number 3 got 78 marks\n",
      "Student Sid having roll number 4 got 64 marks\n",
      "Student Bob having roll number 5 got 34 marks\n",
      "Student Alice having roll number 6 got 43 marks\n",
      "Student Neil having roll number 7 got 89 marks\n",
      "Student Daniel having roll number 8 got 65 marks\n",
      "==============================\n",
      "Student Mark having roll number 1 got 56 marks\n",
      "Student Henry having roll number 2 got 98 marks\n",
      "Student Sam having roll number 3 got 78 marks\n",
      "Student Sid having roll number 4 got 64 marks\n",
      "Student Bob having roll number 5 got 34 marks\n",
      "Student Alice having roll number 6 got 43 marks\n",
      "Student Neil having roll number 7 got 89 marks\n",
      "Student Daniel having roll number 8 got 65 marks\n",
      "Student Prince having roll number 9 got 99 marks\n",
      "==============================\n",
      "Student Mark having roll number 1 got 56 marks\n",
      "Student Henry having roll number 2 got 98 marks\n",
      "Student Sam having roll number 3 got 78 marks\n",
      "Student Sid having roll number 4 got 64 marks\n",
      "Student Bob having roll number 5 got 34 marks\n",
      "Student Alice having roll number 6 got 43 marks\n",
      "Student Neil having roll number 7 got 89 marks\n",
      "Student Daniel having roll number 8 got 65 marks\n",
      "Student Prince having roll number 9 got 99 marks\n",
      "Student Light having roll number 10 got 100 marks\n"
     ]
    },
    {
     "data": {
      "text/plain": [
       "\u001b[36mstudentListBuffer\u001b[39m: \u001b[32mListBuffer\u001b[39m[\u001b[32mStudent\u001b[39m] = \u001b[33mListBuffer\u001b[39m(\n",
       "  \u001b[33mStudent\u001b[39m(sno = \u001b[32m1\u001b[39m, sname = \u001b[32m\"Mark\"\u001b[39m, score = \u001b[32m56\u001b[39m),\n",
       "  \u001b[33mStudent\u001b[39m(sno = \u001b[32m2\u001b[39m, sname = \u001b[32m\"Henry\"\u001b[39m, score = \u001b[32m98\u001b[39m),\n",
       "  \u001b[33mStudent\u001b[39m(sno = \u001b[32m3\u001b[39m, sname = \u001b[32m\"Sam\"\u001b[39m, score = \u001b[32m78\u001b[39m),\n",
       "  \u001b[33mStudent\u001b[39m(sno = \u001b[32m4\u001b[39m, sname = \u001b[32m\"Sid\"\u001b[39m, score = \u001b[32m64\u001b[39m),\n",
       "  \u001b[33mStudent\u001b[39m(sno = \u001b[32m5\u001b[39m, sname = \u001b[32m\"Bob\"\u001b[39m, score = \u001b[32m34\u001b[39m),\n",
       "  \u001b[33mStudent\u001b[39m(sno = \u001b[32m6\u001b[39m, sname = \u001b[32m\"Alice\"\u001b[39m, score = \u001b[32m43\u001b[39m),\n",
       "  \u001b[33mStudent\u001b[39m(sno = \u001b[32m7\u001b[39m, sname = \u001b[32m\"Neil\"\u001b[39m, score = \u001b[32m89\u001b[39m),\n",
       "  \u001b[33mStudent\u001b[39m(sno = \u001b[32m8\u001b[39m, sname = \u001b[32m\"Daniel\"\u001b[39m, score = \u001b[32m65\u001b[39m),\n",
       "  \u001b[33mStudent\u001b[39m(sno = \u001b[32m9\u001b[39m, sname = \u001b[32m\"Prince\"\u001b[39m, score = \u001b[32m99\u001b[39m),\n",
       "  \u001b[33mStudent\u001b[39m(sno = \u001b[32m10\u001b[39m, sname = \u001b[32m\"Light\"\u001b[39m, score = \u001b[32m100\u001b[39m)\n",
       ")"
      ]
     },
     "execution_count": 26,
     "metadata": {},
     "output_type": "execute_result"
    }
   ],
   "source": [
    "val studentListBuffer: ListBuffer[Student] = ListBuffer(studentList: _*)\n",
    "studentListBuffer.print()\n",
    "\n",
    "studentListBuffer.add((9, \"Prince\", 99))\n",
    "\n",
    "studentListBuffer.print()\n",
    "\n",
    "studentListBuffer.add(Student(10, \"Light\", 100))\n",
    "\n",
    "studentListBuffer.print()"
   ]
  },
  {
   "cell_type": "code",
   "execution_count": 27,
   "metadata": {},
   "outputs": [
    {
     "name": "stdout",
     "output_type": "stream",
     "text": [
      "==============================\n",
      "Student Sam having roll number 3 got 78 marks\n",
      "Student Sid having roll number 4 got 64 marks\n",
      "==============================\n",
      "Student Henry having roll number 2 got 98 marks\n",
      "Student Neil having roll number 7 got 89 marks\n"
     ]
    },
    {
     "data": {
      "text/plain": [
       "defined \u001b[32mclass\u001b[39m \u001b[36mStudentFilter\u001b[39m"
      ]
     },
     "execution_count": 27,
     "metadata": {},
     "output_type": "execute_result"
    }
   ],
   "source": [
    "implicit class StudentFilter(studentList: List[Student]) {\n",
    "    def filterRecords(condition: Student => Boolean): List[Student] = {\n",
    "        studentList.filter(condition)\n",
    "    }\n",
    "\n",
    "    def print(): Unit = {\n",
    "        println(\"==============================\")\n",
    "        studentList.map(s => println(s\"Student ${s.sname} having roll number ${s.sno} got ${s.score} marks\"))\n",
    "    }\n",
    "}\n",
    "\n",
    "studentList.filterRecords(_.sname.startsWith(\"S\")).print()\n",
    "studentList.filterRecords(_.score > 80).print()"
   ]
  },
  {
   "cell_type": "markdown",
   "metadata": {},
   "source": [
    "### Task 4"
   ]
  },
  {
   "cell_type": "code",
   "execution_count": 33,
   "metadata": {},
   "outputs": [
    {
     "name": "stdout",
     "output_type": "stream",
     "text": [
      "==============================\n",
      "Student Sam having roll number 19 got 85 marks\n",
      "Student Sophia having roll number 28 got 85 marks\n",
      "==============================\n",
      "Student Bob having roll number 2 got 92 marks\n",
      "Student Hannah having roll number 8 got 91 marks\n",
      "Student Mike having roll number 13 got 95 marks\n",
      "Student Rachel having roll number 18 got 93 marks\n",
      "Student Victor having roll number 22 got 96 marks\n",
      "Student Yara having roll number 25 got 94 marks\n",
      "Student Ava having roll number 33 got 92 marks\n",
      "Student James having roll number 35 got 91 marks\n",
      "Student Logan having roll number 40 got 95 marks\n",
      "Student Jackson having roll number 50 got 92 marks\n"
     ]
    },
    {
     "data": {
      "text/plain": [
       "\u001b[36mrecords\u001b[39m: \u001b[32mArray\u001b[39m[\u001b[32mStudent\u001b[39m] = \u001b[33mArray\u001b[39m(\n",
       "  \u001b[33mStudent\u001b[39m(sno = \u001b[32m1\u001b[39m, sname = \u001b[32m\"Alice\"\u001b[39m, score = \u001b[32m85\u001b[39m),\n",
       "  \u001b[33mStudent\u001b[39m(sno = \u001b[32m2\u001b[39m, sname = \u001b[32m\"Bob\"\u001b[39m, score = \u001b[32m92\u001b[39m),\n",
       "  \u001b[33mStudent\u001b[39m(sno = \u001b[32m3\u001b[39m, sname = \u001b[32m\"Charlie\"\u001b[39m, score = \u001b[32m78\u001b[39m),\n",
       "  \u001b[33mStudent\u001b[39m(sno = \u001b[32m4\u001b[39m, sname = \u001b[32m\"David\"\u001b[39m, score = \u001b[32m66\u001b[39m),\n",
       "  \u001b[33mStudent\u001b[39m(sno = \u001b[32m5\u001b[39m, sname = \u001b[32m\"Eve\"\u001b[39m, score = \u001b[32m90\u001b[39m),\n",
       "  \u001b[33mStudent\u001b[39m(sno = \u001b[32m6\u001b[39m, sname = \u001b[32m\"Frank\"\u001b[39m, score = \u001b[32m73\u001b[39m),\n",
       "  \u001b[33mStudent\u001b[39m(sno = \u001b[32m7\u001b[39m, sname = \u001b[32m\"Grace\"\u001b[39m, score = \u001b[32m88\u001b[39m),\n",
       "  \u001b[33mStudent\u001b[39m(sno = \u001b[32m8\u001b[39m, sname = \u001b[32m\"Hannah\"\u001b[39m, score = \u001b[32m91\u001b[39m),\n",
       "  \u001b[33mStudent\u001b[39m(sno = \u001b[32m9\u001b[39m, sname = \u001b[32m\"Isaac\"\u001b[39m, score = \u001b[32m84\u001b[39m),\n",
       "  \u001b[33mStudent\u001b[39m(sno = \u001b[32m10\u001b[39m, sname = \u001b[32m\"Judy\"\u001b[39m, score = \u001b[32m76\u001b[39m),\n",
       "  \u001b[33mStudent\u001b[39m(sno = \u001b[32m11\u001b[39m, sname = \u001b[32m\"Kevin\"\u001b[39m, score = \u001b[32m82\u001b[39m),\n",
       "  \u001b[33mStudent\u001b[39m(sno = \u001b[32m12\u001b[39m, sname = \u001b[32m\"Laura\"\u001b[39m, score = \u001b[32m79\u001b[39m),\n",
       "  \u001b[33mStudent\u001b[39m(sno = \u001b[32m13\u001b[39m, sname = \u001b[32m\"Mike\"\u001b[39m, score = \u001b[32m95\u001b[39m),\n",
       "  \u001b[33mStudent\u001b[39m(sno = \u001b[32m14\u001b[39m, sname = \u001b[32m\"Nina\"\u001b[39m, score = \u001b[32m70\u001b[39m),\n",
       "  \u001b[33mStudent\u001b[39m(sno = \u001b[32m15\u001b[39m, sname = \u001b[32m\"Oscar\"\u001b[39m, score = \u001b[32m89\u001b[39m),\n",
       "  \u001b[33mStudent\u001b[39m(sno = \u001b[32m16\u001b[39m, sname = \u001b[32m\"Paul\"\u001b[39m, score = \u001b[32m80\u001b[39m),\n",
       "  \u001b[33mStudent\u001b[39m(sno = \u001b[32m17\u001b[39m, sname = \u001b[32m\"Quinn\"\u001b[39m, score = \u001b[32m77\u001b[39m),\n",
       "  \u001b[33mStudent\u001b[39m(sno = \u001b[32m18\u001b[39m, sname = \u001b[32m\"Rachel\"\u001b[39m, score = \u001b[32m93\u001b[39m),\n",
       "  \u001b[33mStudent\u001b[39m(sno = \u001b[32m19\u001b[39m, sname = \u001b[32m\"Sam\"\u001b[39m, score = \u001b[32m85\u001b[39m),\n",
       "  \u001b[33mStudent\u001b[39m(sno = \u001b[32m20\u001b[39m, sname = \u001b[32m\"Tina\"\u001b[39m, score = \u001b[32m74\u001b[39m),\n",
       "  \u001b[33mStudent\u001b[39m(sno = \u001b[32m21\u001b[39m, sname = \u001b[32m\"Uma\"\u001b[39m, score = \u001b[32m69\u001b[39m),\n",
       "  \u001b[33mStudent\u001b[39m(sno = \u001b[32m22\u001b[39m, sname = \u001b[32m\"Victor\"\u001b[39m, score = \u001b[32m96\u001b[39m),\n",
       "  \u001b[33mStudent\u001b[39m(sno = \u001b[32m23\u001b[39m, sname = \u001b[32m\"Wendy\"\u001b[39m, score = \u001b[32m87\u001b[39m),\n",
       "  \u001b[33mStudent\u001b[39m(sno = \u001b[32m24\u001b[39m, sname = \u001b[32m\"Xander\"\u001b[39m, score = \u001b[32m68\u001b[39m),\n",
       "  \u001b[33mStudent\u001b[39m(sno = \u001b[32m25\u001b[39m, sname = \u001b[32m\"Yara\"\u001b[39m, score = \u001b[32m94\u001b[39m),\n",
       "  \u001b[33mStudent\u001b[39m(sno = \u001b[32m26\u001b[39m, sname = \u001b[32m\"Zane\"\u001b[39m, score = \u001b[32m81\u001b[39m),\n",
       "  \u001b[33mStudent\u001b[39m(sno = \u001b[32m27\u001b[39m, sname = \u001b[32m\"Oliver\"\u001b[39m, score = \u001b[32m78\u001b[39m),\n",
       "  \u001b[33mStudent\u001b[39m(sno = \u001b[32m28\u001b[39m, sname = \u001b[32m\"Sophia\"\u001b[39m, score = \u001b[32m85\u001b[39m),\n",
       "  \u001b[33mStudent\u001b[39m(sno = \u001b[32m29\u001b[39m, sname = \u001b[32m\"Liam\"\u001b[39m, score = \u001b[32m90\u001b[39m),\n",
       "  \u001b[33mStudent\u001b[39m(sno = \u001b[32m30\u001b[39m, sname = \u001b[32m\"Mia\"\u001b[39m, score = \u001b[32m83\u001b[39m),\n",
       "  \u001b[33mStudent\u001b[39m(sno = \u001b[32m31\u001b[39m, sname = \u001b[32m\"Noah\"\u001b[39m, score = \u001b[32m88\u001b[39m),\n",
       "  \u001b[33mStudent\u001b[39m(sno = \u001b[32m32\u001b[39m, sname = \u001b[32m\"Emma\"\u001b[39m, score = \u001b[32m75\u001b[39m),\n",
       "  \u001b[33mStudent\u001b[39m(sno = \u001b[32m33\u001b[39m, sname = \u001b[32m\"Ava\"\u001b[39m, score = \u001b[32m92\u001b[39m),\n",
       "  \u001b[33mStudent\u001b[39m(sno = \u001b[32m34\u001b[39m, sname = \u001b[32m\"William\"\u001b[39m, score = \u001b[32m86\u001b[39m),\n",
       "  \u001b[33mStudent\u001b[39m(sno = \u001b[32m35\u001b[39m, sname = \u001b[32m\"James\"\u001b[39m, score = \u001b[32m91\u001b[39m),\n",
       "  \u001b[33mStudent\u001b[39m(sno = \u001b[32m36\u001b[39m, sname = \u001b[32m\"Lucas\"\u001b[39m, score = \u001b[32m72\u001b[39m),\n",
       "  \u001b[33mStudent\u001b[39m(sno = \u001b[32m37\u001b[39m, sname = \u001b[32m\"Amelia\"\u001b[39m, score = \u001b[32m79\u001b[39m),\n",
       "  \u001b[33mStudent\u001b[39m(sno = \u001b[32m38\u001b[39m, sname = \u001b[32m\"Ella\"\u001b[39m, score = \u001b[32m89\u001b[39m),\n",
       "..."
      ]
     },
     "execution_count": 33,
     "metadata": {},
     "output_type": "execute_result"
    }
   ],
   "source": [
    "val records: Array[Student] = Array(\n",
    "  (1, \"Alice\", 85), (2, \"Bob\", 92), (3, \"Charlie\", 78), (4, \"David\", 66), (5, \"Eve\", 90),\n",
    "  (6, \"Frank\", 73), (7, \"Grace\", 88), (8, \"Hannah\", 91), (9, \"Isaac\", 84), (10, \"Judy\", 76),\n",
    "  (11, \"Kevin\", 82), (12, \"Laura\", 79), (13, \"Mike\", 95), (14, \"Nina\", 70), (15, \"Oscar\", 89),\n",
    "  (16, \"Paul\", 80), (17, \"Quinn\", 77), (18, \"Rachel\", 93), (19, \"Sam\", 85), (20, \"Tina\", 74),\n",
    "  (21, \"Uma\", 69), (22, \"Victor\", 96), (23, \"Wendy\", 87), (24, \"Xander\", 68), (25, \"Yara\", 94),\n",
    "  (26, \"Zane\", 81), (27, \"Oliver\", 78), (28, \"Sophia\", 85), (29, \"Liam\", 90), (30, \"Mia\", 83),\n",
    "  (31, \"Noah\", 88), (32, \"Emma\", 75), (33, \"Ava\", 92), (34, \"William\", 86), (35, \"James\", 91),\n",
    "  (36, \"Lucas\", 72), (37, \"Amelia\", 79), (38, \"Ella\", 89), (39, \"Mason\", 76), (40, \"Logan\", 95),\n",
    "  (41, \"Ethan\", 84), (42, \"Charlotte\", 82), (43, \"Benjamin\", 80), (44, \"Alexander\", 71),\n",
    "  (45, \"Michael\", 88), (46, \"Isabella\", 73), (47, \"Daniel\", 86), (48, \"Elijah\", 81),\n",
    "  (49, \"Matthew\", 79), (50, \"Jackson\", 92)\n",
    ")\n",
    "\n",
    "records.toList.filterRecords(_.sname.startsWith(\"S\")).print()\n",
    "records.toList.filterRecords(_.score > 90).print()"
   ]
  },
  {
   "cell_type": "code",
   "execution_count": 34,
   "metadata": {},
   "outputs": [
    {
     "name": "stdout",
     "output_type": "stream",
     "text": [
      "==============================\n",
      "Student Sam having roll number 19 got 85 marks\n",
      "Student Sophia having roll number 28 got 85 marks\n"
     ]
    },
    {
     "data": {
      "text/plain": [
       "defined \u001b[32mfunction\u001b[39m \u001b[36marrayToList\u001b[39m\n",
       "\u001b[36mlistRec\u001b[39m: \u001b[32mList\u001b[39m[\u001b[32mStudent\u001b[39m] = \u001b[33mList\u001b[39m(\n",
       "  \u001b[33mStudent\u001b[39m(sno = \u001b[32m1\u001b[39m, sname = \u001b[32m\"Alice\"\u001b[39m, score = \u001b[32m85\u001b[39m),\n",
       "  \u001b[33mStudent\u001b[39m(sno = \u001b[32m2\u001b[39m, sname = \u001b[32m\"Bob\"\u001b[39m, score = \u001b[32m92\u001b[39m),\n",
       "  \u001b[33mStudent\u001b[39m(sno = \u001b[32m3\u001b[39m, sname = \u001b[32m\"Charlie\"\u001b[39m, score = \u001b[32m78\u001b[39m),\n",
       "  \u001b[33mStudent\u001b[39m(sno = \u001b[32m4\u001b[39m, sname = \u001b[32m\"David\"\u001b[39m, score = \u001b[32m66\u001b[39m),\n",
       "  \u001b[33mStudent\u001b[39m(sno = \u001b[32m5\u001b[39m, sname = \u001b[32m\"Eve\"\u001b[39m, score = \u001b[32m90\u001b[39m),\n",
       "  \u001b[33mStudent\u001b[39m(sno = \u001b[32m6\u001b[39m, sname = \u001b[32m\"Frank\"\u001b[39m, score = \u001b[32m73\u001b[39m),\n",
       "  \u001b[33mStudent\u001b[39m(sno = \u001b[32m7\u001b[39m, sname = \u001b[32m\"Grace\"\u001b[39m, score = \u001b[32m88\u001b[39m),\n",
       "  \u001b[33mStudent\u001b[39m(sno = \u001b[32m8\u001b[39m, sname = \u001b[32m\"Hannah\"\u001b[39m, score = \u001b[32m91\u001b[39m),\n",
       "  \u001b[33mStudent\u001b[39m(sno = \u001b[32m9\u001b[39m, sname = \u001b[32m\"Isaac\"\u001b[39m, score = \u001b[32m84\u001b[39m),\n",
       "  \u001b[33mStudent\u001b[39m(sno = \u001b[32m10\u001b[39m, sname = \u001b[32m\"Judy\"\u001b[39m, score = \u001b[32m76\u001b[39m),\n",
       "  \u001b[33mStudent\u001b[39m(sno = \u001b[32m11\u001b[39m, sname = \u001b[32m\"Kevin\"\u001b[39m, score = \u001b[32m82\u001b[39m),\n",
       "  \u001b[33mStudent\u001b[39m(sno = \u001b[32m12\u001b[39m, sname = \u001b[32m\"Laura\"\u001b[39m, score = \u001b[32m79\u001b[39m),\n",
       "  \u001b[33mStudent\u001b[39m(sno = \u001b[32m13\u001b[39m, sname = \u001b[32m\"Mike\"\u001b[39m, score = \u001b[32m95\u001b[39m),\n",
       "  \u001b[33mStudent\u001b[39m(sno = \u001b[32m14\u001b[39m, sname = \u001b[32m\"Nina\"\u001b[39m, score = \u001b[32m70\u001b[39m),\n",
       "  \u001b[33mStudent\u001b[39m(sno = \u001b[32m15\u001b[39m, sname = \u001b[32m\"Oscar\"\u001b[39m, score = \u001b[32m89\u001b[39m),\n",
       "  \u001b[33mStudent\u001b[39m(sno = \u001b[32m16\u001b[39m, sname = \u001b[32m\"Paul\"\u001b[39m, score = \u001b[32m80\u001b[39m),\n",
       "  \u001b[33mStudent\u001b[39m(sno = \u001b[32m17\u001b[39m, sname = \u001b[32m\"Quinn\"\u001b[39m, score = \u001b[32m77\u001b[39m),\n",
       "  \u001b[33mStudent\u001b[39m(sno = \u001b[32m18\u001b[39m, sname = \u001b[32m\"Rachel\"\u001b[39m, score = \u001b[32m93\u001b[39m),\n",
       "  \u001b[33mStudent\u001b[39m(sno = \u001b[32m19\u001b[39m, sname = \u001b[32m\"Sam\"\u001b[39m, score = \u001b[32m85\u001b[39m),\n",
       "  \u001b[33mStudent\u001b[39m(sno = \u001b[32m20\u001b[39m, sname = \u001b[32m\"Tina\"\u001b[39m, score = \u001b[32m74\u001b[39m),\n",
       "  \u001b[33mStudent\u001b[39m(sno = \u001b[32m21\u001b[39m, sname = \u001b[32m\"Uma\"\u001b[39m, score = \u001b[32m69\u001b[39m),\n",
       "  \u001b[33mStudent\u001b[39m(sno = \u001b[32m22\u001b[39m, sname = \u001b[32m\"Victor\"\u001b[39m, score = \u001b[32m96\u001b[39m),\n",
       "  \u001b[33mStudent\u001b[39m(sno = \u001b[32m23\u001b[39m, sname = \u001b[32m\"Wendy\"\u001b[39m, score = \u001b[32m87\u001b[39m),\n",
       "  \u001b[33mStudent\u001b[39m(sno = \u001b[32m24\u001b[39m, sname = \u001b[32m\"Xander\"\u001b[39m, score = \u001b[32m68\u001b[39m),\n",
       "  \u001b[33mStudent\u001b[39m(sno = \u001b[32m25\u001b[39m, sname = \u001b[32m\"Yara\"\u001b[39m, score = \u001b[32m94\u001b[39m),\n",
       "  \u001b[33mStudent\u001b[39m(sno = \u001b[32m26\u001b[39m, sname = \u001b[32m\"Zane\"\u001b[39m, score = \u001b[32m81\u001b[39m),\n",
       "  \u001b[33mStudent\u001b[39m(sno = \u001b[32m27\u001b[39m, sname = \u001b[32m\"Oliver\"\u001b[39m, score = \u001b[32m78\u001b[39m),\n",
       "  \u001b[33mStudent\u001b[39m(sno = \u001b[32m28\u001b[39m, sname = \u001b[32m\"Sophia\"\u001b[39m, score = \u001b[32m85\u001b[39m),\n",
       "  \u001b[33mStudent\u001b[39m(sno = \u001b[32m29\u001b[39m, sname = \u001b[32m\"Liam\"\u001b[39m, score = \u001b[32m90\u001b[39m),\n",
       "  \u001b[33mStudent\u001b[39m(sno = \u001b[32m30\u001b[39m, sname = \u001b[32m\"Mia\"\u001b[39m, score = \u001b[32m83\u001b[39m),\n",
       "  \u001b[33mStudent\u001b[39m(sno = \u001b[32m31\u001b[39m, sname = \u001b[32m\"Noah\"\u001b[39m, score = \u001b[32m88\u001b[39m),\n",
       "  \u001b[33mStudent\u001b[39m(sno = \u001b[32m32\u001b[39m, sname = \u001b[32m\"Emma\"\u001b[39m, score = \u001b[32m75\u001b[39m),\n",
       "  \u001b[33mStudent\u001b[39m(sno = \u001b[32m33\u001b[39m, sname = \u001b[32m\"Ava\"\u001b[39m, score = \u001b[32m92\u001b[39m),\n",
       "  \u001b[33mStudent\u001b[39m(sno = \u001b[32m34\u001b[39m, sname = \u001b[32m\"William\"\u001b[39m, score = \u001b[32m86\u001b[39m),\n",
       "  \u001b[33mStudent\u001b[39m(sno = \u001b[32m35\u001b[39m, sname = \u001b[32m\"James\"\u001b[39m, score = \u001b[32m91\u001b[39m),\n",
       "  \u001b[33mStudent\u001b[39m(sno = \u001b[32m36\u001b[39m, sname = \u001b[32m\"Lucas\"\u001b[39m, score = \u001b[32m72\u001b[39m),\n",
       "  \u001b[33mStudent\u001b[39m(sno = \u001b[32m37\u001b[39m, sname = \u001b[32m\"Amelia\"\u001b[39m, score = \u001b[32m79\u001b[39m),\n",
       "  \u001b[33mStudent\u001b[39m(sno = \u001b[32m38\u001b[39m, sname = \u001b[32m\"Ella\"\u001b[39m, score = \u001b[32m89\u001b[39m),\n",
       "..."
      ]
     },
     "execution_count": 34,
     "metadata": {},
     "output_type": "execute_result"
    }
   ],
   "source": [
    "implicit def arrayToList(records: Array[Student]): List[Student] = {\n",
    "    def convert(index: Int, acc: List[Student]): List[Student] = {\n",
    "        if(index<0) acc\n",
    "\n",
    "        else convert(index-1, records(index) :: acc)\n",
    "    }\n",
    "\n",
    "    convert(records.length-1, List())\n",
    "    // var temp: List[Student] = List()\n",
    "    // for(i <- 0 until records.length) {\n",
    "    //     temp  = temp :+ records(i)\n",
    "    // }\n",
    "    // temp\n",
    "}\n",
    "\n",
    "// studentArray.map(arrayToList)\n",
    "val listRec:List[Student]=records\n",
    "listRec.filterRecords(_.sname.startsWith(\"S\")).print()"
   ]
  }
 ],
 "metadata": {
  "kernelspec": {
   "display_name": "Scala",
   "language": "scala",
   "name": "scala"
  },
  "language_info": {
   "codemirror_mode": "text/x-scala",
   "file_extension": ".sc",
   "mimetype": "text/x-scala",
   "name": "scala",
   "nbconvert_exporter": "script",
   "version": "2.13.14"
  }
 },
 "nbformat": 4,
 "nbformat_minor": 2
}
