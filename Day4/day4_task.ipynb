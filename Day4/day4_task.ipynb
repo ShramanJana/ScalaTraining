{
 "cells": [
  {
   "cell_type": "markdown",
   "metadata": {},
   "source": [
    "## Reading data from csv file"
   ]
  },
  {
   "cell_type": "code",
   "execution_count": 1,
   "metadata": {},
   "outputs": [
    {
     "name": "stdout",
     "output_type": "stream",
     "text": [
      "1, John Doe, New York, 60000, Marketing\n",
      "2, Jane Smith, Los Angeles, 55000, Finance\n",
      "3, Michael Johnson, Chicago, 62000, HR\n",
      "4, Sarah Lee, San Francisco, 58000, Engineering\n",
      "5, David Brown, Houston, 63000, Operations\n",
      "6, Emily Taylor, Miami, 54000, Sales\n",
      "7, James Wilson, Dallas, 59000, Marketing\n",
      "8, Emma Anderson, Seattle, 61000, Finance\n",
      "9, Matthew Martinez, Boston, 57000, HR\n",
      "10, Olivia Thomas, Atlanta, 64000, Engineering\n",
      "11, Liam Garcia, Denver, 53000, Operations\n",
      "12, Sophia Hernandez, Phoenix, 60000, Sales\n",
      "13, Alexander Lopez, Philadelphia, 56000, Marketing\n",
      "14, Mia Gonzalez, Detroit, 62000, Finance\n",
      "15, Ethan Perez, Minneapolis, 55000, HR\n",
      "16, Isabella Carter, Portland, 63000, Engineering\n",
      "17, Mason Torres, Baltimore, 52000, Operations\n",
      "18, Ava Ramirez, San Diego, 64000, Sales\n",
      "19, Logan Sanders, Washington, 57000, Marketing\n",
      "20, Harper King, Birmingham, 61000, Finance\n",
      "21, Lucas Rivera, Memphis, 59000, HR\n",
      "22, Evelyn Scott, Nashville, 60000, Engineering\n",
      "23, Avery Green, Milwaukee, 56000, Operations\n",
      "24, Lincoln Taylor, Indianapolis, 62000, Sales\n",
      "25, Sofia Cooper, Louisville, 54000, Marketing\n",
      "26, Aiden Bennett, Jacksonville, 63000, Finance\n",
      "27, Madison Flores, Charlotte, 58000, HR\n",
      "28, Ella Collins, San Jose, 65000, Engineering\n",
      "29, Chloe Howard, San Antonio, 53000, Operations\n",
      "30, Carter Hughes, Oklahoma City, 61000, Sales\n",
      "31, Aria Nelson, Tucson, 57000, Marketing\n",
      "32, Grayson Baker, Cleveland, 60000, Finance\n",
      "33, Zoey Morris, Mesa, 55000, HR\n",
      "34, Nova Ward, Kansas City, 64000, Engineering\n",
      "35, Hudson James, Virginia Beach, 52000, Operations\n",
      "36, Leah Watson, Atlanta, 62000, Sales\n",
      "37, Riley Brooks, Colorado Springs, 54000, Marketing\n",
      "38, Emery Kelly, Raleigh, 59000, Finance\n",
      "39, Luke Reed, Omaha, 61000, HR\n",
      "40, Layla Cooper, Miami, 56000, Engineering\n",
      "41, Ayden Rivera, Tulsa, 63000, Operations\n",
      "42, Penelope Coleman, Oakland, 58000, Sales\n",
      "43, Lincoln Powell, Minneapolis, 65000, Marketing\n",
      "44, Aubrey Long, Arlington, 60000, Finance\n",
      "45, Grace Hughes, Bakersfield, 55000, HR\n",
      "46, Nolan Ward, Tampa, 64000, Engineering\n",
      "47, Bella Barnes, Honolulu, 52000, Operations\n",
      "48, Ellie Howard, Anaheim, 62000, Sales\n",
      "49, Liam Wright, Pittsburgh, 56000, Marketing\n",
      "50, Emma Evans, Cincinnati, 61000, Finance\n"
     ]
    },
    {
     "data": {
      "text/plain": [
       "\u001b[32mimport \u001b[39m\u001b[36mscala.io.Source\u001b[39m\n",
       "\u001b[36mlines\u001b[39m: \u001b[32mIterator\u001b[39m[\u001b[32mString\u001b[39m] = \u001b[32mempty iterator\u001b[39m"
      ]
     },
     "execution_count": 1,
     "metadata": {},
     "output_type": "execute_result"
    }
   ],
   "source": [
    "import scala.io.Source\n",
    "\n",
    "val lines = Source.fromFile(\"Task.csv\").getLines().drop(1)\n",
    "for(line <- lines) {\n",
    "    val fields = line.split(\",\").map(_.trim)\n",
    "    println(fields.mkString(\", \"))\n",
    "}"
   ]
  },
  {
   "cell_type": "markdown",
   "metadata": {},
   "source": [
    "## Create the case class to represent the entity"
   ]
  },
  {
   "cell_type": "code",
   "execution_count": 2,
   "metadata": {},
   "outputs": [
    {
     "data": {
      "text/plain": [
       "defined \u001b[32mclass\u001b[39m \u001b[36mEmployee\u001b[39m"
      ]
     },
     "execution_count": 2,
     "metadata": {},
     "output_type": "execute_result"
    }
   ],
   "source": [
    "case class Employee(id: Int, name: String, country: String, salary: Int, department: String)"
   ]
  },
  {
   "cell_type": "markdown",
   "metadata": {},
   "source": [
    "## Add all the records in to List"
   ]
  },
  {
   "cell_type": "code",
   "execution_count": 3,
   "metadata": {},
   "outputs": [
    {
     "name": "stdout",
     "output_type": "stream",
     "text": [
      "Employee(1,John Doe,New York,60000,Marketing)\n",
      "Employee(2,Jane Smith,Los Angeles,55000,Finance)\n",
      "Employee(3,Michael Johnson,Chicago,62000,HR)\n",
      "Employee(4,Sarah Lee,San Francisco,58000,Engineering)\n",
      "Employee(5,David Brown,Houston,63000,Operations)\n",
      "Employee(6,Emily Taylor,Miami,54000,Sales)\n",
      "Employee(7,James Wilson,Dallas,59000,Marketing)\n",
      "Employee(8,Emma Anderson,Seattle,61000,Finance)\n",
      "Employee(9,Matthew Martinez,Boston,57000,HR)\n",
      "Employee(10,Olivia Thomas,Atlanta,64000,Engineering)\n",
      "Employee(11,Liam Garcia,Denver,53000,Operations)\n",
      "Employee(12,Sophia Hernandez,Phoenix,60000,Sales)\n",
      "Employee(13,Alexander Lopez,Philadelphia,56000,Marketing)\n",
      "Employee(14,Mia Gonzalez,Detroit,62000,Finance)\n",
      "Employee(15,Ethan Perez,Minneapolis,55000,HR)\n",
      "Employee(16,Isabella Carter,Portland,63000,Engineering)\n",
      "Employee(17,Mason Torres,Baltimore,52000,Operations)\n",
      "Employee(18,Ava Ramirez,San Diego,64000,Sales)\n",
      "Employee(19,Logan Sanders,Washington,57000,Marketing)\n",
      "Employee(20,Harper King,Birmingham,61000,Finance)\n",
      "Employee(21,Lucas Rivera,Memphis,59000,HR)\n",
      "Employee(22,Evelyn Scott,Nashville,60000,Engineering)\n",
      "Employee(23,Avery Green,Milwaukee,56000,Operations)\n",
      "Employee(24,Lincoln Taylor,Indianapolis,62000,Sales)\n",
      "Employee(25,Sofia Cooper,Louisville,54000,Marketing)\n",
      "Employee(26,Aiden Bennett,Jacksonville,63000,Finance)\n",
      "Employee(27,Madison Flores,Charlotte,58000,HR)\n",
      "Employee(28,Ella Collins,San Jose,65000,Engineering)\n",
      "Employee(29,Chloe Howard,San Antonio,53000,Operations)\n",
      "Employee(30,Carter Hughes,Oklahoma City,61000,Sales)\n",
      "Employee(31,Aria Nelson,Tucson,57000,Marketing)\n",
      "Employee(32,Grayson Baker,Cleveland,60000,Finance)\n",
      "Employee(33,Zoey Morris,Mesa,55000,HR)\n",
      "Employee(34,Nova Ward,Kansas City,64000,Engineering)\n",
      "Employee(35,Hudson James,Virginia Beach,52000,Operations)\n",
      "Employee(36,Leah Watson,Atlanta,62000,Sales)\n",
      "Employee(37,Riley Brooks,Colorado Springs,54000,Marketing)\n",
      "Employee(38,Emery Kelly,Raleigh,59000,Finance)\n",
      "Employee(39,Luke Reed,Omaha,61000,HR)\n",
      "Employee(40,Layla Cooper,Miami,56000,Engineering)\n",
      "Employee(41,Ayden Rivera,Tulsa,63000,Operations)\n",
      "Employee(42,Penelope Coleman,Oakland,58000,Sales)\n",
      "Employee(43,Lincoln Powell,Minneapolis,65000,Marketing)\n",
      "Employee(44,Aubrey Long,Arlington,60000,Finance)\n",
      "Employee(45,Grace Hughes,Bakersfield,55000,HR)\n",
      "Employee(46,Nolan Ward,Tampa,64000,Engineering)\n",
      "Employee(47,Bella Barnes,Honolulu,52000,Operations)\n",
      "Employee(48,Ellie Howard,Anaheim,62000,Sales)\n",
      "Employee(49,Liam Wright,Pittsburgh,56000,Marketing)\n",
      "Employee(50,Emma Evans,Cincinnati,61000,Finance)\n"
     ]
    },
    {
     "data": {
      "text/plain": [
       "\u001b[36memployeeIterator\u001b[39m: \u001b[32mIterator\u001b[39m[\u001b[32mEmployee\u001b[39m] = \u001b[32mempty iterator\u001b[39m\n",
       "\u001b[36memployeeList\u001b[39m: \u001b[32mArray\u001b[39m[\u001b[32mEmployee\u001b[39m] = \u001b[33mArray\u001b[39m(\n",
       "  \u001b[33mEmployee\u001b[39m(\n",
       "    id = \u001b[32m1\u001b[39m,\n",
       "    name = \u001b[32m\"John Doe\"\u001b[39m,\n",
       "    country = \u001b[32m\"New York\"\u001b[39m,\n",
       "    salary = \u001b[32m60000\u001b[39m,\n",
       "    department = \u001b[32m\"Marketing\"\u001b[39m\n",
       "  ),\n",
       "  \u001b[33mEmployee\u001b[39m(\n",
       "    id = \u001b[32m2\u001b[39m,\n",
       "    name = \u001b[32m\"Jane Smith\"\u001b[39m,\n",
       "    country = \u001b[32m\"Los Angeles\"\u001b[39m,\n",
       "    salary = \u001b[32m55000\u001b[39m,\n",
       "    department = \u001b[32m\"Finance\"\u001b[39m\n",
       "  ),\n",
       "  \u001b[33mEmployee\u001b[39m(\n",
       "    id = \u001b[32m3\u001b[39m,\n",
       "    name = \u001b[32m\"Michael Johnson\"\u001b[39m,\n",
       "    country = \u001b[32m\"Chicago\"\u001b[39m,\n",
       "    salary = \u001b[32m62000\u001b[39m,\n",
       "    department = \u001b[32m\"HR\"\u001b[39m\n",
       "  ),\n",
       "  \u001b[33mEmployee\u001b[39m(\n",
       "    id = \u001b[32m4\u001b[39m,\n",
       "    name = \u001b[32m\"Sarah Lee\"\u001b[39m,\n",
       "    country = \u001b[32m\"San Francisco\"\u001b[39m,\n",
       "    salary = \u001b[32m58000\u001b[39m,\n",
       "    department = \u001b[32m\"Engineering\"\u001b[39m\n",
       "  ),\n",
       "  \u001b[33mEmployee\u001b[39m(\n",
       "    id = \u001b[32m5\u001b[39m,\n",
       "    name = \u001b[32m\"David Brown\"\u001b[39m,\n",
       "    country = \u001b[32m\"Houston\"\u001b[39m,\n",
       "    salary = \u001b[32m63000\u001b[39m,\n",
       "    department = \u001b[32m\"Operations\"\u001b[39m\n",
       "  ),\n",
       "  \u001b[33mEmployee\u001b[39m(\n",
       "    id = \u001b[32m6\u001b[39m,\n",
       "    name = \u001b[32m\"Emily Taylor\"\u001b[39m,\n",
       "..."
      ]
     },
     "execution_count": 3,
     "metadata": {},
     "output_type": "execute_result"
    }
   ],
   "source": [
    "// Creating representaion of the csv content\n",
    "val employeeIterator = for{\n",
    "    line <- Source.fromFile(\"Task.csv\").getLines().drop(1)\n",
    "    fields = line.split(\",\").map(_.trim)\n",
    "} yield Employee(fields(0).toInt, fields(1), fields(2), fields(3).toInt, fields(4))\n",
    "\n",
    "val employeeList = employeeIterator.toArray\n",
    "\n",
    "// printing the employees\n",
    "for{\n",
    "    employee <- employeeList\n",
    "} println(employee)"
   ]
  },
  {
   "cell_type": "markdown",
   "metadata": {},
   "source": [
    "## Perform filter operations based on salary and departments"
   ]
  },
  {
   "cell_type": "code",
   "execution_count": 4,
   "metadata": {},
   "outputs": [
    {
     "name": "stdout",
     "output_type": "stream",
     "text": [
      "Number of employees having a salary greater than 60000: 25\n",
      "Employees having a salary greater than 60000:\n",
      "Employee(1,John Doe,New York,60000,Marketing)\n",
      "Employee(3,Michael Johnson,Chicago,62000,HR)\n",
      "Employee(5,David Brown,Houston,63000,Operations)\n",
      "Employee(8,Emma Anderson,Seattle,61000,Finance)\n",
      "Employee(10,Olivia Thomas,Atlanta,64000,Engineering)\n",
      "Employee(12,Sophia Hernandez,Phoenix,60000,Sales)\n",
      "Employee(14,Mia Gonzalez,Detroit,62000,Finance)\n",
      "Employee(16,Isabella Carter,Portland,63000,Engineering)\n",
      "Employee(18,Ava Ramirez,San Diego,64000,Sales)\n",
      "Employee(20,Harper King,Birmingham,61000,Finance)\n",
      "Employee(22,Evelyn Scott,Nashville,60000,Engineering)\n",
      "Employee(24,Lincoln Taylor,Indianapolis,62000,Sales)\n",
      "Employee(26,Aiden Bennett,Jacksonville,63000,Finance)\n",
      "Employee(28,Ella Collins,San Jose,65000,Engineering)\n",
      "Employee(30,Carter Hughes,Oklahoma City,61000,Sales)\n",
      "Employee(32,Grayson Baker,Cleveland,60000,Finance)\n",
      "Employee(34,Nova Ward,Kansas City,64000,Engineering)\n",
      "Employee(36,Leah Watson,Atlanta,62000,Sales)\n",
      "Employee(39,Luke Reed,Omaha,61000,HR)\n",
      "Employee(41,Ayden Rivera,Tulsa,63000,Operations)\n",
      "Employee(43,Lincoln Powell,Minneapolis,65000,Marketing)\n",
      "Employee(44,Aubrey Long,Arlington,60000,Finance)\n",
      "Employee(46,Nolan Ward,Tampa,64000,Engineering)\n",
      "Employee(48,Ellie Howard,Anaheim,62000,Sales)\n",
      "Employee(50,Emma Evans,Cincinnati,61000,Finance)\n"
     ]
    }
   ],
   "source": [
    "println(\"Number of employees having a salary greater than 60000: \" + employeeList.filter(_.salary >= 60000).length)\n",
    "println(\"Employees having a salary greater than 60000:\")\n",
    "for {\n",
    "    employee <- employeeList.filter(_.salary >= 60000)\n",
    "} println(employee)"
   ]
  },
  {
   "cell_type": "markdown",
   "metadata": {},
   "source": []
  },
  {
   "cell_type": "code",
   "execution_count": 5,
   "metadata": {},
   "outputs": [
    {
     "name": "stdout",
     "output_type": "stream",
     "text": [
      "Number of employees in Marketing department: 9\n",
      "Employees in Marketing department:\n",
      "Employee(1,John Doe,New York,60000,Marketing)\n",
      "Employee(7,James Wilson,Dallas,59000,Marketing)\n",
      "Employee(13,Alexander Lopez,Philadelphia,56000,Marketing)\n",
      "Employee(19,Logan Sanders,Washington,57000,Marketing)\n",
      "Employee(25,Sofia Cooper,Louisville,54000,Marketing)\n",
      "Employee(31,Aria Nelson,Tucson,57000,Marketing)\n",
      "Employee(37,Riley Brooks,Colorado Springs,54000,Marketing)\n",
      "Employee(43,Lincoln Powell,Minneapolis,65000,Marketing)\n",
      "Employee(49,Liam Wright,Pittsburgh,56000,Marketing)\n"
     ]
    }
   ],
   "source": [
    "println(\"Number of employees in Marketing department: \" + employeeList.filter(_.department.equalsIgnoreCase(\"Marketing\")).length)\n",
    "println(\"Employees in Marketing department:\")\n",
    "for {\n",
    "    employee <- employeeList.filter(_.department.equalsIgnoreCase(\"Marketing\"))\n",
    "} println(employee)"
   ]
  },
  {
   "cell_type": "markdown",
   "metadata": {},
   "source": [
    "## Perform map operations to produce formatted report"
   ]
  },
  {
   "cell_type": "code",
   "execution_count": 6,
   "metadata": {},
   "outputs": [
    {
     "name": "stdout",
     "output_type": "stream",
     "text": [
      "John Doe is our employee from New York with employee id 1, earning 60000 from Marketing department\n",
      "Jane Smith is our employee from Los Angeles with employee id 2, earning 55000 from Finance department\n",
      "Michael Johnson is our employee from Chicago with employee id 3, earning 62000 from HR department\n",
      "Sarah Lee is our employee from San Francisco with employee id 4, earning 58000 from Engineering department\n",
      "David Brown is our employee from Houston with employee id 5, earning 63000 from Operations department\n",
      "Emily Taylor is our employee from Miami with employee id 6, earning 54000 from Sales department\n",
      "James Wilson is our employee from Dallas with employee id 7, earning 59000 from Marketing department\n",
      "Emma Anderson is our employee from Seattle with employee id 8, earning 61000 from Finance department\n",
      "Matthew Martinez is our employee from Boston with employee id 9, earning 57000 from HR department\n",
      "Olivia Thomas is our employee from Atlanta with employee id 10, earning 64000 from Engineering department\n",
      "Liam Garcia is our employee from Denver with employee id 11, earning 53000 from Operations department\n",
      "Sophia Hernandez is our employee from Phoenix with employee id 12, earning 60000 from Sales department\n",
      "Alexander Lopez is our employee from Philadelphia with employee id 13, earning 56000 from Marketing department\n",
      "Mia Gonzalez is our employee from Detroit with employee id 14, earning 62000 from Finance department\n",
      "Ethan Perez is our employee from Minneapolis with employee id 15, earning 55000 from HR department\n",
      "Isabella Carter is our employee from Portland with employee id 16, earning 63000 from Engineering department\n",
      "Mason Torres is our employee from Baltimore with employee id 17, earning 52000 from Operations department\n",
      "Ava Ramirez is our employee from San Diego with employee id 18, earning 64000 from Sales department\n",
      "Logan Sanders is our employee from Washington with employee id 19, earning 57000 from Marketing department\n",
      "Harper King is our employee from Birmingham with employee id 20, earning 61000 from Finance department\n",
      "Lucas Rivera is our employee from Memphis with employee id 21, earning 59000 from HR department\n",
      "Evelyn Scott is our employee from Nashville with employee id 22, earning 60000 from Engineering department\n",
      "Avery Green is our employee from Milwaukee with employee id 23, earning 56000 from Operations department\n",
      "Lincoln Taylor is our employee from Indianapolis with employee id 24, earning 62000 from Sales department\n",
      "Sofia Cooper is our employee from Louisville with employee id 25, earning 54000 from Marketing department\n",
      "Aiden Bennett is our employee from Jacksonville with employee id 26, earning 63000 from Finance department\n",
      "Madison Flores is our employee from Charlotte with employee id 27, earning 58000 from HR department\n",
      "Ella Collins is our employee from San Jose with employee id 28, earning 65000 from Engineering department\n",
      "Chloe Howard is our employee from San Antonio with employee id 29, earning 53000 from Operations department\n",
      "Carter Hughes is our employee from Oklahoma City with employee id 30, earning 61000 from Sales department\n",
      "Aria Nelson is our employee from Tucson with employee id 31, earning 57000 from Marketing department\n",
      "Grayson Baker is our employee from Cleveland with employee id 32, earning 60000 from Finance department\n",
      "Zoey Morris is our employee from Mesa with employee id 33, earning 55000 from HR department\n",
      "Nova Ward is our employee from Kansas City with employee id 34, earning 64000 from Engineering department\n",
      "Hudson James is our employee from Virginia Beach with employee id 35, earning 52000 from Operations department\n",
      "Leah Watson is our employee from Atlanta with employee id 36, earning 62000 from Sales department\n",
      "Riley Brooks is our employee from Colorado Springs with employee id 37, earning 54000 from Marketing department\n",
      "Emery Kelly is our employee from Raleigh with employee id 38, earning 59000 from Finance department\n",
      "Luke Reed is our employee from Omaha with employee id 39, earning 61000 from HR department\n",
      "Layla Cooper is our employee from Miami with employee id 40, earning 56000 from Engineering department\n",
      "Ayden Rivera is our employee from Tulsa with employee id 41, earning 63000 from Operations department\n",
      "Penelope Coleman is our employee from Oakland with employee id 42, earning 58000 from Sales department\n",
      "Lincoln Powell is our employee from Minneapolis with employee id 43, earning 65000 from Marketing department\n",
      "Aubrey Long is our employee from Arlington with employee id 44, earning 60000 from Finance department\n",
      "Grace Hughes is our employee from Bakersfield with employee id 45, earning 55000 from HR department\n",
      "Nolan Ward is our employee from Tampa with employee id 46, earning 64000 from Engineering department\n",
      "Bella Barnes is our employee from Honolulu with employee id 47, earning 52000 from Operations department\n",
      "Ellie Howard is our employee from Anaheim with employee id 48, earning 62000 from Sales department\n",
      "Liam Wright is our employee from Pittsburgh with employee id 49, earning 56000 from Marketing department\n",
      "Emma Evans is our employee from Cincinnati with employee id 50, earning 61000 from Finance department\n"
     ]
    },
    {
     "data": {
      "text/plain": [
       "\u001b[36mres6\u001b[39m: \u001b[32mArray\u001b[39m[\u001b[32mUnit\u001b[39m] = \u001b[33mArray\u001b[39m(\n",
       "  (),\n",
       "  (),\n",
       "  (),\n",
       "  (),\n",
       "  (),\n",
       "  (),\n",
       "  (),\n",
       "  (),\n",
       "  (),\n",
       "  (),\n",
       "  (),\n",
       "  (),\n",
       "  (),\n",
       "  (),\n",
       "  (),\n",
       "  (),\n",
       "  (),\n",
       "  (),\n",
       "  (),\n",
       "  (),\n",
       "  (),\n",
       "  (),\n",
       "  (),\n",
       "  (),\n",
       "  (),\n",
       "  (),\n",
       "  (),\n",
       "  (),\n",
       "  (),\n",
       "  (),\n",
       "  (),\n",
       "  (),\n",
       "  (),\n",
       "  (),\n",
       "  (),\n",
       "  (),\n",
       "  (),\n",
       "  (),\n",
       "..."
      ]
     },
     "execution_count": 6,
     "metadata": {},
     "output_type": "execute_result"
    }
   ],
   "source": [
    "employeeList.map(emp => println(s\"${emp.name} is our employee from ${emp.country} with employee id ${emp.id}, earning ${emp.salary} from ${emp.department} department\"))"
   ]
  },
  {
   "cell_type": "markdown",
   "metadata": {},
   "source": [
    "## Perform reduce operation to find total salary, average salary, number of employees department wise"
   ]
  },
  {
   "cell_type": "code",
   "execution_count": 11,
   "metadata": {},
   "outputs": [
    {
     "name": "stdout",
     "output_type": "stream",
     "text": [
      "Total salary of all the employees: 2943000\n",
      "Average salary of all the employees: 58860\n",
      "=================================\n",
      "Engineering has 8 number of employees\n",
      "Operations has 8 number of employees\n",
      "Sales has 8 number of employees\n",
      "Marketing has 9 number of employees\n",
      "HR has 8 number of employees\n",
      "Finance has 9 number of employees\n",
      "=================================\n",
      "Engineering has 494000 total salary\n",
      "Operations has 444000 total salary\n",
      "Sales has 483000 total salary\n",
      "Marketing has 518000 total salary\n",
      "HR has 462000 total salary\n",
      "Finance has 542000 total salary\n",
      "=================================\n",
      "Engineering has 61750 average salary\n",
      "Operations has 55500 average salary\n",
      "Sales has 60375 average salary\n",
      "Marketing has 57555 average salary\n",
      "HR has 57750 average salary\n",
      "Finance has 60222 average salary\n"
     ]
    },
    {
     "data": {
      "text/plain": [
       "\u001b[36mresult\u001b[39m: (\u001b[32mInt\u001b[39m, \u001b[32mInt\u001b[39m) = (\u001b[32m2943000\u001b[39m, \u001b[32m50\u001b[39m)\n",
       "\u001b[36mres11_4\u001b[39m: \u001b[32mcollection\u001b[39m.\u001b[32mimmutable\u001b[39m.\u001b[32mIterable\u001b[39m[\u001b[32mUnit\u001b[39m] = \u001b[33mList\u001b[39m((), (), (), (), (), ())\n",
       "\u001b[36mres11_6\u001b[39m: \u001b[32mcollection\u001b[39m.\u001b[32mimmutable\u001b[39m.\u001b[32mIterable\u001b[39m[\u001b[32mUnit\u001b[39m] = \u001b[33mList\u001b[39m((), (), (), (), (), ())\n",
       "\u001b[36mres11_8\u001b[39m: \u001b[32mcollection\u001b[39m.\u001b[32mimmutable\u001b[39m.\u001b[32mIterable\u001b[39m[\u001b[32mUnit\u001b[39m] = \u001b[33mList\u001b[39m((), (), (), (), (), ())"
      ]
     },
     "execution_count": 11,
     "metadata": {},
     "output_type": "execute_result"
    }
   ],
   "source": [
    "// Total salary\n",
    "println(s\"Total salary of all the employees: ${employeeList.map(_.salary).sum}\")\n",
    "\n",
    "// Average salary\n",
    "val result = employeeList.map(emp => (emp.salary, 1)).reduce((a, b) => (a._1 + b._1, a._2 + b._2))\n",
    "println(s\"Average salary of all the employees: ${result._1/result._2}\")\n",
    "\n",
    "// number of employees department wise\n",
    "println(\"=================================\")\n",
    "employeeList.groupBy(_.department).map{ case (department, list) => println(s\"$department has ${list.length} number of employees\")}\n",
    "\n",
    "println(\"=================================\")\n",
    "employeeList.groupBy(_.department).map{ case (department, list) => println(s\"$department has ${list.map(_.salary).sum} total salary\")}\n",
    "\n",
    "println(\"=================================\")\n",
    "employeeList.groupBy(_.department).map{ case (department, list) => {\n",
    "    var result = list.map(emp => (emp.salary, 1)).reduce((a, b) => (a._1 + b._1, a._2 + b._2))\n",
    "    println(s\"$department has ${result._1/result._2} average salary\")\n",
    "}}"
   ]
  },
  {
   "cell_type": "markdown",
   "metadata": {},
   "source": []
  }
 ],
 "metadata": {
  "kernelspec": {
   "display_name": "Scala",
   "language": "scala",
   "name": "scala"
  },
  "language_info": {
   "codemirror_mode": "text/x-scala",
   "file_extension": ".sc",
   "mimetype": "text/x-scala",
   "name": "scala",
   "nbconvert_exporter": "script",
   "version": "2.13.14"
  }
 },
 "nbformat": 4,
 "nbformat_minor": 2
}
