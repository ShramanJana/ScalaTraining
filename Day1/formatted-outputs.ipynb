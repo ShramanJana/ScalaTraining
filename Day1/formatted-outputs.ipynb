{
 "cells": [
  {
   "cell_type": "markdown",
   "metadata": {},
   "source": [
    "# Print Formatted Outputs "
   ]
  },
  {
   "cell_type": "markdown",
   "metadata": {},
   "source": [
    "### Difference between print and println methods\n",
    "\n",
    "    print() statement will simply print the content provided inside the paranthesis\n",
    "    println() will add an extra newline character at the end of each statement"
   ]
  },
  {
   "cell_type": "code",
   "execution_count": 30,
   "metadata": {},
   "outputs": [
    {
     "name": "stdout",
     "output_type": "stream",
     "text": [
      "Printing 1st statement using println function, it will add new line at the end of the statement\n",
      "Printing 2nd statement using print function"
     ]
    }
   ],
   "source": [
    "println(s\"Printing 1st statement using println function, it will add new line at the end of the statement\")\n",
    "print(s\"Printing 2nd statement using print function\")"
   ]
  },
  {
   "cell_type": "code",
   "execution_count": 29,
   "metadata": {},
   "outputs": [
    {
     "name": "stdout",
     "output_type": "stream",
     "text": [
      "Printing 1st statement using print function, it won't add new line at the end of the statement, instead 2nd statement using println function will start in the same line\n"
     ]
    }
   ],
   "source": [
    "print(s\"Printing 1st statement using print function, it won't add new line at the end of the statement, instead\")\n",
    "println(s\" 2nd statement using println function will start in the same line\")"
   ]
  },
  {
   "cell_type": "markdown",
   "metadata": {},
   "source": [
    "### Formatting the outputs"
   ]
  },
  {
   "cell_type": "markdown",
   "metadata": {},
   "source": [
    "#### Strings can be formatted using printf() method to get outputs in required formats"
   ]
  },
  {
   "cell_type": "code",
   "execution_count": 43,
   "metadata": {},
   "outputs": [
    {
     "name": "stdout",
     "output_type": "stream",
     "text": [
      "The value of the float variable is 13.07, The value of the integer variable is 1967\n",
      "The value of the string is Hello World"
     ]
    },
    {
     "data": {
      "text/html": [
       "<div class=\"jp-RenderedText\">\n",
       "<pre><code><span style=\"color: rgb(0, 187, 187)\"><span class=\"ansi-cyan-fg\">floatVar</span></span>: <span style=\"color: rgb(0, 187, 0)\"><span class=\"ansi-green-fg\">Float</span></span> = <span style=\"color: rgb(0, 187, 0)\"><span class=\"ansi-green-fg\">13.068F</span></span>\n",
       "<span style=\"color: rgb(0, 187, 187)\"><span class=\"ansi-cyan-fg\">intVar</span></span>: <span style=\"color: rgb(0, 187, 0)\"><span class=\"ansi-green-fg\">Int</span></span> = <span style=\"color: rgb(0, 187, 0)\"><span class=\"ansi-green-fg\">1967</span></span>\n",
       "<span style=\"color: rgb(0, 187, 187)\"><span class=\"ansi-cyan-fg\">stringVar</span></span>: <span style=\"color: rgb(0, 187, 0)\"><span class=\"ansi-green-fg\">String</span></span> = <span style=\"color: rgb(0, 187, 0)\"><span class=\"ansi-green-fg\">&quot;Hello World&quot;</span></span></code></pre>\n",
       "</div>"
      ],
      "text/plain": [
       "\u001b[36mfloatVar\u001b[39m: \u001b[32mFloat\u001b[39m = \u001b[32m13.068F\u001b[39m\n",
       "\u001b[36mintVar\u001b[39m: \u001b[32mInt\u001b[39m = \u001b[32m1967\u001b[39m\n",
       "\u001b[36mstringVar\u001b[39m: \u001b[32mString\u001b[39m = \u001b[32m\"Hello World\"\u001b[39m"
      ]
     },
     "metadata": {},
     "output_type": "display_data"
    }
   ],
   "source": [
    "var floatVar:Float = 13.0680f\n",
    "var intVar:Int = 1967\n",
    "var stringVar:String = \"Hello World\"\n",
    "\n",
    "printf(\"The value of the float variable is %2.2f, \", floatVar)\n",
    "printf(\"The value of the integer variable is %d\\n\", intVar)\n",
    "printf(\"The value of the string is %s\", stringVar)"
   ]
  },
  {
   "cell_type": "markdown",
   "metadata": {},
   "source": [
    "### String Interpolation\n",
    "\n",
    "This mechanism evaluates the string value at the runtime. Strings can be interpolated and expanded in various ways."
   ]
  },
  {
   "cell_type": "markdown",
   "metadata": {},
   "source": [
    "The s interpolator - It allows the use of a variable directly in processing a string, when you prepend ‘s’ to it."
   ]
  },
  {
   "cell_type": "code",
   "execution_count": 22,
   "metadata": {},
   "outputs": [
    {
     "name": "stdout",
     "output_type": "stream",
     "text": [
      "The name is John Snow\n",
      "The value of 10*9 is 90\n"
     ]
    },
    {
     "data": {
      "text/plain": [
       "\u001b[36mname\u001b[39m: \u001b[32mString\u001b[39m = \u001b[32m\"John Snow\"\u001b[39m"
      ]
     },
     "execution_count": 22,
     "metadata": {},
     "output_type": "execute_result"
    }
   ],
   "source": [
    "val name = \"John Snow\"\n",
    "println(s\"The name is $name\")\n",
    "println(s\"The value of 10*9 is ${10*9}\")"
   ]
  },
  {
   "cell_type": "markdown",
   "metadata": {},
   "source": [
    "The f interpolator - It allows creating a formatted String, similar to printf in C language. While using ‘f’ interpolator, all variable references should be followed by the printf style format specifiers such as %d, %i, %f, etc."
   ]
  },
  {
   "cell_type": "code",
   "execution_count": 47,
   "metadata": {},
   "outputs": [
    {
     "name": "stdout",
     "output_type": "stream",
     "text": [
      "John Snow is 1.8 meters tall\n"
     ]
    },
    {
     "data": {
      "text/plain": [
       "\u001b[36mheight\u001b[39m: \u001b[32mDouble\u001b[39m = \u001b[32m1.82\u001b[39m\n",
       "\u001b[36mname\u001b[39m: \u001b[32mString\u001b[39m = \u001b[32m\"John Snow\"\u001b[39m"
      ]
     },
     "execution_count": 47,
     "metadata": {},
     "output_type": "execute_result"
    }
   ],
   "source": [
    "val height:Double = 1.82\n",
    "val name = \"John Snow\"\n",
    "println(f\"$name%s is $height%2.1f meters tall\")"
   ]
  },
  {
   "cell_type": "markdown",
   "metadata": {},
   "source": [
    "The raw interpolator - It performs no escaping of literals within a string."
   ]
  },
  {
   "cell_type": "code",
   "execution_count": 50,
   "metadata": {},
   "outputs": [
    {
     "name": "stdout",
     "output_type": "stream",
     "text": [
      "Without raw output is \n",
      "printed in new line\n",
      "With raw output is \\n printed as it is\n"
     ]
    }
   ],
   "source": [
    "println(s\"Without raw output is \\nprinted in new line\")\n",
    "println(raw\"With raw output is \\n printed as it is\")"
   ]
  },
  {
   "cell_type": "code",
   "execution_count": null,
   "metadata": {},
   "outputs": [],
   "source": []
  }
 ],
 "metadata": {
  "kernelspec": {
   "display_name": "Scala",
   "language": "scala",
   "name": "scala"
  },
  "language_info": {
   "codemirror_mode": "text/x-scala",
   "file_extension": ".sc",
   "mimetype": "text/x-scala",
   "name": "scala",
   "nbconvert_exporter": "script",
   "version": "2.13.14"
  }
 },
 "nbformat": 4,
 "nbformat_minor": 2
}
