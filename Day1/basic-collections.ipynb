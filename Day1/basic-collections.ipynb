{
 "cells": [
  {
   "cell_type": "markdown",
   "metadata": {},
   "source": [
    "# Basic Collections"
   ]
  },
  {
   "cell_type": "markdown",
   "metadata": {},
   "source": [
    "### List\n",
    "\n",
    "A list is a collection which contains immutable data. List represents linked list in Scala. The Scala List class holds a sequenced, linear list of items."
   ]
  },
  {
   "cell_type": "code",
   "execution_count": 19,
   "metadata": {},
   "outputs": [
    {
     "name": "stdout",
     "output_type": "stream",
     "text": [
      "List 1:\n",
      "List(New, Old, NeitherOrEither, Nerd)\n",
      "\n",
      "List 2:\n",
      "C\n",
      "C#\n",
      "Java\n",
      "Scala\n",
      "PHP\n",
      "Ruby\n",
      "\n",
      "The two dimensional list is:\n",
      "List(List(1, 0, 0), List(0, 1, 0), List(0, 0, 1))\n"
     ]
    },
    {
     "data": {
      "text/plain": [
       "\u001b[36mmylist1\u001b[39m: \u001b[32mList\u001b[39m[\u001b[32mString\u001b[39m] = \u001b[33mList\u001b[39m(\u001b[32m\"New\"\u001b[39m, \u001b[32m\"Old\"\u001b[39m, \u001b[32m\"NeitherOrEither\"\u001b[39m, \u001b[32m\"Nerd\"\u001b[39m)\n",
       "\u001b[36mmylist2\u001b[39m: \u001b[32mList\u001b[39m[\u001b[32mString\u001b[39m] = \u001b[33mList\u001b[39m(\u001b[32m\"C\"\u001b[39m, \u001b[32m\"C#\"\u001b[39m, \u001b[32m\"Java\"\u001b[39m, \u001b[32m\"Scala\"\u001b[39m, \u001b[32m\"PHP\"\u001b[39m, \u001b[32m\"Ruby\"\u001b[39m)\n",
       "\u001b[36mtwodlist\u001b[39m: \u001b[32mList\u001b[39m[\u001b[32mList\u001b[39m[\u001b[32mInt\u001b[39m]] = \u001b[33mList\u001b[39m(\u001b[33mList\u001b[39m(\u001b[32m1\u001b[39m, \u001b[32m0\u001b[39m, \u001b[32m0\u001b[39m), \u001b[33mList\u001b[39m(\u001b[32m0\u001b[39m, \u001b[32m1\u001b[39m, \u001b[32m0\u001b[39m), \u001b[33mList\u001b[39m(\u001b[32m0\u001b[39m, \u001b[32m0\u001b[39m, \u001b[32m1\u001b[39m))"
      ]
     },
     "execution_count": 19,
     "metadata": {},
     "output_type": "execute_result"
    }
   ],
   "source": [
    "val mylist1: List[String] = List(\"New\", \"Old\", \n",
    "                            \"NeitherOrEither\", \"Nerd\") \n",
    "val mylist2 = List(\"C\", \"C#\", \"Java\", \"Scala\", \n",
    "                                \"PHP\", \"Ruby\") \n",
    "\n",
    "// Display the value of mylist1 \n",
    "println(\"List 1:\") \n",
    "println(mylist1) \n",
    "\n",
    "// Display the value of mylist2 using for loop \n",
    "println(\"\\nList 2:\") \n",
    "for(mylist<-mylist2) \n",
    "{ \n",
    "    println(mylist) \n",
    "} \n",
    "println()\n",
    "\n",
    "// 2 dimentional List\n",
    "val twodlist: List[List[Int]] =\n",
    "        List( \n",
    "            List(1, 0, 0), \n",
    "            List(0, 1, 0), \n",
    "            List(0, 0, 1) \n",
    "            ) \n",
    "println(\"The two dimensional list is:\") \n",
    "println(twodlist)"
   ]
  },
  {
   "cell_type": "markdown",
   "metadata": {},
   "source": [
    "### Basic operations on List"
   ]
  },
  {
   "cell_type": "code",
   "execution_count": 8,
   "metadata": {},
   "outputs": [
    {
     "name": "stdout",
     "output_type": "stream",
     "text": [
      "Geeks\n",
      "List(C#, Java, Scala, PHP, Ruby)\n",
      "Programming Language : List(Scala, Scala, Scala)\n",
      "number : List(4, 4, 4, 4, 4, 4, 4, 4)\n"
     ]
    },
    {
     "data": {
      "text/plain": [
       "\u001b[36mprogramminglanguage\u001b[39m: \u001b[32mList\u001b[39m[\u001b[32mString\u001b[39m] = \u001b[33mList\u001b[39m(\u001b[32m\"Scala\"\u001b[39m, \u001b[32m\"Scala\"\u001b[39m, \u001b[32m\"Scala\"\u001b[39m)\n",
       "\u001b[36mnumber\u001b[39m: \u001b[32mList\u001b[39m[\u001b[32mInt\u001b[39m] = \u001b[33mList\u001b[39m(\u001b[32m4\u001b[39m, \u001b[32m4\u001b[39m, \u001b[32m4\u001b[39m, \u001b[32m4\u001b[39m, \u001b[32m4\u001b[39m, \u001b[32m4\u001b[39m, \u001b[32m4\u001b[39m, \u001b[32m4\u001b[39m)"
      ]
     },
     "execution_count": 8,
     "metadata": {},
     "output_type": "execute_result"
    }
   ],
   "source": [
    "println(mylist1.head) // first element of list\n",
    "\n",
    "println(mylist2.tail) // returns a list consisting of all elements except the first\n",
    "\n",
    "// Creating a uniform list in Scala\n",
    "// Repeats Scala three times. \n",
    "val programminglanguage = List.fill(3)(\"Scala\")  \n",
    "println( \"Programming Language : \" + programminglanguage ) \n",
    "\n",
    "// Repeats 2, 10 times. \n",
    "val number= List.fill(8)(4)          \n",
    "println(\"number : \" + number)"
   ]
  },
  {
   "cell_type": "markdown",
   "metadata": {},
   "source": [
    "### ListBuffer\n",
    "\n",
    "If we need to create a list that is constantly changing, the preferred approach is to use a ListBuffer."
   ]
  },
  {
   "cell_type": "markdown",
   "metadata": {},
   "source": [
    "Adding elements"
   ]
  },
  {
   "cell_type": "code",
   "execution_count": 20,
   "metadata": {},
   "outputs": [
    {
     "name": "stdout",
     "output_type": "stream",
     "text": [
      "ListBuffer(NeverSayNever, SNS, Class)\n",
      "ListBuffer(NeverSayNever, SNS, Class, NeverSayNever, SNS, class, Scala, Article)\n"
     ]
    },
    {
     "data": {
      "text/html": [
       "<div class=\"jp-RenderedText\">\n",
       "<pre><code><span style=\"color: rgb(0, 187, 0)\"><span class=\"ansi-green-fg\">import </span></span><span style=\"color: rgb(0, 187, 187)\"><span class=\"ansi-cyan-fg\">scala.collection.mutable.ListBuffer</span></span>\n",
       "<span style=\"color: rgb(0, 187, 187)\"><span class=\"ansi-cyan-fg\">name</span></span>: <span style=\"color: rgb(0, 187, 0)\"><span class=\"ansi-green-fg\">ListBuffer</span></span>[<span style=\"color: rgb(0, 187, 0)\"><span class=\"ansi-green-fg\">String</span></span>] = <span style=\"color: yellow\"><span class=\"ansi-yellow-fg\">ListBuffer</span></span>(\n",
       "  <span style=\"color: rgb(0, 187, 0)\"><span class=\"ansi-green-fg\">&quot;NeverSayNever&quot;</span></span>,\n",
       "  <span style=\"color: rgb(0, 187, 0)\"><span class=\"ansi-green-fg\">&quot;SNS&quot;</span></span>,\n",
       "  <span style=\"color: rgb(0, 187, 0)\"><span class=\"ansi-green-fg\">&quot;Class&quot;</span></span>,\n",
       "  <span style=\"color: rgb(0, 187, 0)\"><span class=\"ansi-green-fg\">&quot;NeverSayNever&quot;</span></span>,\n",
       "  <span style=\"color: rgb(0, 187, 0)\"><span class=\"ansi-green-fg\">&quot;SNS&quot;</span></span>,\n",
       "  <span style=\"color: rgb(0, 187, 0)\"><span class=\"ansi-green-fg\">&quot;class&quot;</span></span>,\n",
       "  <span style=\"color: rgb(0, 187, 0)\"><span class=\"ansi-green-fg\">&quot;Scala&quot;</span></span>,\n",
       "  <span style=\"color: rgb(0, 187, 0)\"><span class=\"ansi-green-fg\">&quot;Article&quot;</span></span>\n",
       ")\n",
       "<span style=\"color: rgb(0, 187, 187)\"><span class=\"ansi-cyan-fg\">res20_2</span></span>: <span style=\"color: rgb(0, 187, 0)\"><span class=\"ansi-green-fg\">ListBuffer</span></span>[<span style=\"color: rgb(0, 187, 0)\"><span class=\"ansi-green-fg\">String</span></span>] = <span style=\"color: yellow\"><span class=\"ansi-yellow-fg\">ListBuffer</span></span>(\n",
       "  <span style=\"color: rgb(0, 187, 0)\"><span class=\"ansi-green-fg\">&quot;NeverSayNever&quot;</span></span>,\n",
       "  <span style=\"color: rgb(0, 187, 0)\"><span class=\"ansi-green-fg\">&quot;SNS&quot;</span></span>,\n",
       "  <span style=\"color: rgb(0, 187, 0)\"><span class=\"ansi-green-fg\">&quot;Class&quot;</span></span>,\n",
       "  <span style=\"color: rgb(0, 187, 0)\"><span class=\"ansi-green-fg\">&quot;NeverSayNever&quot;</span></span>,\n",
       "  <span style=\"color: rgb(0, 187, 0)\"><span class=\"ansi-green-fg\">&quot;SNS&quot;</span></span>,\n",
       "  <span style=\"color: rgb(0, 187, 0)\"><span class=\"ansi-green-fg\">&quot;class&quot;</span></span>,\n",
       "  <span style=\"color: rgb(0, 187, 0)\"><span class=\"ansi-green-fg\">&quot;Scala&quot;</span></span>,\n",
       "  <span style=\"color: rgb(0, 187, 0)\"><span class=\"ansi-green-fg\">&quot;Article&quot;</span></span>\n",
       ")\n",
       "<span style=\"color: rgb(0, 187, 187)\"><span class=\"ansi-cyan-fg\">res20_3</span></span>: <span style=\"color: rgb(0, 187, 0)\"><span class=\"ansi-green-fg\">ListBuffer</span></span>[<span style=\"color: rgb(0, 187, 0)\"><span class=\"ansi-green-fg\">String</span></span>] = <span style=\"color: yellow\"><span class=\"ansi-yellow-fg\">ListBuffer</span></span>(\n",
       "  <span style=\"color: rgb(0, 187, 0)\"><span class=\"ansi-green-fg\">&quot;NeverSayNever&quot;</span></span>,\n",
       "  <span style=\"color: rgb(0, 187, 0)\"><span class=\"ansi-green-fg\">&quot;SNS&quot;</span></span>,\n",
       "  <span style=\"color: rgb(0, 187, 0)\"><span class=\"ansi-green-fg\">&quot;Class&quot;</span></span>,\n",
       "  <span style=\"color: rgb(0, 187, 0)\"><span class=\"ansi-green-fg\">&quot;NeverSayNever&quot;</span></span>,\n",
       "  <span style=\"color: rgb(0, 187, 0)\"><span class=\"ansi-green-fg\">&quot;SNS&quot;</span></span>,\n",
       "  <span style=\"color: rgb(0, 187, 0)\"><span class=\"ansi-green-fg\">&quot;class&quot;</span></span>,\n",
       "  <span style=\"color: rgb(0, 187, 0)\"><span class=\"ansi-green-fg\">&quot;Scala&quot;</span></span>,\n",
       "  <span style=\"color: rgb(0, 187, 0)\"><span class=\"ansi-green-fg\">&quot;Article&quot;</span></span>\n",
       ")\n",
       "<span style=\"color: rgb(0, 187, 187)\"><span class=\"ansi-cyan-fg\">res20_4</span></span>: <span style=\"color: rgb(0, 187, 0)\"><span class=\"ansi-green-fg\">ListBuffer</span></span>[<span style=\"color: rgb(0, 187, 0)\"><span class=\"ansi-green-fg\">String</span></span>] = <span style=\"color: yellow\"><span class=\"ansi-yellow-fg\">ListBuffer</span></span>(\n",
       "  <span style=\"color: rgb(0, 187, 0)\"><span class=\"ansi-green-fg\">&quot;NeverSayNever&quot;</span></span>,\n",
       "  <span style=\"color: rgb(0, 187, 0)\"><span class=\"ansi-green-fg\">&quot;SNS&quot;</span></span>,\n",
       "  <span style=\"color: rgb(0, 187, 0)\"><span class=\"ansi-green-fg\">&quot;Class&quot;</span></span>,\n",
       "  <span style=\"color: rgb(0, 187, 0)\"><span class=\"ansi-green-fg\">&quot;NeverSayNever&quot;</span></span>,\n",
       "  <span style=\"color: rgb(0, 187, 0)\"><span class=\"ansi-green-fg\">&quot;SNS&quot;</span></span>,\n",
       "  <span style=\"color: rgb(0, 187, 0)\"><span class=\"ansi-green-fg\">&quot;class&quot;</span></span>,\n",
       "  <span style=\"color: rgb(0, 187, 0)\"><span class=\"ansi-green-fg\">&quot;Scala&quot;</span></span>,\n",
       "  <span style=\"color: rgb(0, 187, 0)\"><span class=\"ansi-green-fg\">&quot;Article&quot;</span></span>\n",
       ")\n",
       "<span style=\"color: rgb(0, 187, 187)\"><span class=\"ansi-cyan-fg\">res20_6</span></span>: <span style=\"color: rgb(0, 187, 0)\"><span class=\"ansi-green-fg\">ListBuffer</span></span>[<span style=\"color: rgb(0, 187, 0)\"><span class=\"ansi-green-fg\">String</span></span>] = <span style=\"color: yellow\"><span class=\"ansi-yellow-fg\">ListBuffer</span></span>(\n",
       "  <span style=\"color: rgb(0, 187, 0)\"><span class=\"ansi-green-fg\">&quot;NeverSayNever&quot;</span></span>,\n",
       "  <span style=\"color: rgb(0, 187, 0)\"><span class=\"ansi-green-fg\">&quot;SNS&quot;</span></span>,\n",
       "  <span style=\"color: rgb(0, 187, 0)\"><span class=\"ansi-green-fg\">&quot;Class&quot;</span></span>,\n",
       "  <span style=\"color: rgb(0, 187, 0)\"><span class=\"ansi-green-fg\">&quot;NeverSayNever&quot;</span></span>,\n",
       "  <span style=\"color: rgb(0, 187, 0)\"><span class=\"ansi-green-fg\">&quot;SNS&quot;</span></span>,\n",
       "  <span style=\"color: rgb(0, 187, 0)\"><span class=\"ansi-green-fg\">&quot;class&quot;</span></span>,\n",
       "  <span style=\"color: rgb(0, 187, 0)\"><span class=\"ansi-green-fg\">&quot;Scala&quot;</span></span>,\n",
       "  <span style=\"color: rgb(0, 187, 0)\"><span class=\"ansi-green-fg\">&quot;Article&quot;</span></span>\n",
       ")\n",
       "<span style=\"color: rgb(0, 187, 187)\"><span class=\"ansi-cyan-fg\">res20_7</span></span>: <span style=\"color: rgb(0, 187, 0)\"><span class=\"ansi-green-fg\">ListBuffer</span></span>[<span style=\"color: rgb(0, 187, 0)\"><span class=\"ansi-green-fg\">String</span></span>] = <span style=\"color: yellow\"><span class=\"ansi-yellow-fg\">ListBuffer</span></span>(\n",
       "  <span style=\"color: rgb(0, 187, 0)\"><span class=\"ansi-green-fg\">&quot;NeverSayNever&quot;</span></span>,\n",
       "  <span style=\"color: rgb(0, 187, 0)\"><span class=\"ansi-green-fg\">&quot;SNS&quot;</span></span>,\n",
       "  <span style=\"color: rgb(0, 187, 0)\"><span class=\"ansi-green-fg\">&quot;Class&quot;</span></span>,\n",
       "  <span style=\"color: rgb(0, 187, 0)\"><span class=\"ansi-green-fg\">&quot;NeverSayNever&quot;</span></span>,\n",
       "  <span style=\"color: rgb(0, 187, 0)\"><span class=\"ansi-green-fg\">&quot;SNS&quot;</span></span>,\n",
       "  <span style=\"color: rgb(0, 187, 0)\"><span class=\"ansi-green-fg\">&quot;class&quot;</span></span>,\n",
       "  <span style=\"color: rgb(0, 187, 0)\"><span class=\"ansi-green-fg\">&quot;Scala&quot;</span></span>,\n",
       "  <span style=\"color: rgb(0, 187, 0)\"><span class=\"ansi-green-fg\">&quot;Article&quot;</span></span>\n",
       ")\n",
       "<span style=\"color: rgb(0, 187, 187)\"><span class=\"ansi-cyan-fg\">res20_8</span></span>: <span style=\"color: rgb(0, 187, 0)\"><span class=\"ansi-green-fg\">ListBuffer</span></span>[<span style=\"color: rgb(0, 187, 0)\"><span class=\"ansi-green-fg\">String</span></span>] = <span style=\"color: yellow\"><span class=\"ansi-yellow-fg\">ListBuffer</span></span>(\n",
       "  <span style=\"color: rgb(0, 187, 0)\"><span class=\"ansi-green-fg\">&quot;NeverSayNever&quot;</span></span>,\n",
       "  <span style=\"color: rgb(0, 187, 0)\"><span class=\"ansi-green-fg\">&quot;SNS&quot;</span></span>,\n",
       "  <span style=\"color: rgb(0, 187, 0)\"><span class=\"ansi-green-fg\">&quot;Class&quot;</span></span>,\n",
       "  <span style=\"color: rgb(0, 187, 0)\"><span class=\"ansi-green-fg\">&quot;NeverSayNever&quot;</span></span>,\n",
       "  <span style=\"color: rgb(0, 187, 0)\"><span class=\"ansi-green-fg\">&quot;SNS&quot;</span></span>,\n",
       "  <span style=\"color: rgb(0, 187, 0)\"><span class=\"ansi-green-fg\">&quot;class&quot;</span></span>,\n",
       "  <span style=\"color: rgb(0, 187, 0)\"><span class=\"ansi-green-fg\">&quot;Scala&quot;</span></span>,\n",
       "  <span style=\"color: rgb(0, 187, 0)\"><span class=\"ansi-green-fg\">&quot;Article&quot;</span></span>\n",
       ")</code></pre>\n",
       "</div>"
      ],
      "text/plain": [
       "\u001b[32mimport \u001b[39m\u001b[36mscala.collection.mutable.ListBuffer\u001b[39m\n",
       "\u001b[36mname\u001b[39m: \u001b[32mListBuffer\u001b[39m[\u001b[32mString\u001b[39m] = \u001b[33mListBuffer\u001b[39m(\n",
       "  \u001b[32m\"NeverSayNever\"\u001b[39m,\n",
       "  \u001b[32m\"SNS\"\u001b[39m,\n",
       "  \u001b[32m\"Class\"\u001b[39m,\n",
       "  \u001b[32m\"NeverSayNever\"\u001b[39m,\n",
       "  \u001b[32m\"SNS\"\u001b[39m,\n",
       "  \u001b[32m\"class\"\u001b[39m,\n",
       "  \u001b[32m\"Scala\"\u001b[39m,\n",
       "  \u001b[32m\"Article\"\u001b[39m\n",
       ")\n",
       "\u001b[36mres20_2\u001b[39m: \u001b[32mListBuffer\u001b[39m[\u001b[32mString\u001b[39m] = \u001b[33mListBuffer\u001b[39m(\n",
       "  \u001b[32m\"NeverSayNever\"\u001b[39m,\n",
       "  \u001b[32m\"SNS\"\u001b[39m,\n",
       "  \u001b[32m\"Class\"\u001b[39m,\n",
       "  \u001b[32m\"NeverSayNever\"\u001b[39m,\n",
       "  \u001b[32m\"SNS\"\u001b[39m,\n",
       "  \u001b[32m\"class\"\u001b[39m,\n",
       "  \u001b[32m\"Scala\"\u001b[39m,\n",
       "  \u001b[32m\"Article\"\u001b[39m\n",
       ")\n",
       "\u001b[36mres20_3\u001b[39m: \u001b[32mListBuffer\u001b[39m[\u001b[32mString\u001b[39m] = \u001b[33mListBuffer\u001b[39m(\n",
       "  \u001b[32m\"NeverSayNever\"\u001b[39m,\n",
       "  \u001b[32m\"SNS\"\u001b[39m,\n",
       "  \u001b[32m\"Class\"\u001b[39m,\n",
       "  \u001b[32m\"NeverSayNever\"\u001b[39m,\n",
       "  \u001b[32m\"SNS\"\u001b[39m,\n",
       "  \u001b[32m\"class\"\u001b[39m,\n",
       "  \u001b[32m\"Scala\"\u001b[39m,\n",
       "  \u001b[32m\"Article\"\u001b[39m\n",
       ")\n",
       "\u001b[36mres20_4\u001b[39m: \u001b[32mListBuffer\u001b[39m[\u001b[32mString\u001b[39m] = \u001b[33mListBuffer\u001b[39m(\n",
       "  \u001b[32m\"NeverSayNever\"\u001b[39m,\n",
       "  \u001b[32m\"SNS\"\u001b[39m,\n",
       "  \u001b[32m\"Class\"\u001b[39m,\n",
       "  \u001b[32m\"NeverSayNever\"\u001b[39m,\n",
       "  \u001b[32m\"SNS\"\u001b[39m,\n",
       "  \u001b[32m\"class\"\u001b[39m,\n",
       "  \u001b[32m\"Scala\"\u001b[39m,\n",
       "  \u001b[32m\"Article\"\u001b[39m\n",
       ")\n",
       "\u001b[36mres20_6\u001b[39m: \u001b[32mListBuffer\u001b[39m[\u001b[32mString\u001b[39m] = \u001b[33mListBuffer\u001b[39m(\n",
       "  \u001b[32m\"NeverSayNever\"\u001b[39m,\n",
       "  \u001b[32m\"SNS\"\u001b[39m,\n",
       "  \u001b[32m\"Class\"\u001b[39m,\n",
       "  \u001b[32m\"NeverSayNever\"\u001b[39m,\n",
       "  \u001b[32m\"SNS\"\u001b[39m,\n",
       "  \u001b[32m\"class\"\u001b[39m,\n",
       "  \u001b[32m\"Scala\"\u001b[39m,\n",
       "  \u001b[32m\"Article\"\u001b[39m\n",
       ")\n",
       "\u001b[36mres20_7\u001b[39m: \u001b[32mListBuffer\u001b[39m[\u001b[32mString\u001b[39m] = \u001b[33mListBuffer\u001b[39m(\n",
       "  \u001b[32m\"NeverSayNever\"\u001b[39m,\n",
       "  \u001b[32m\"SNS\"\u001b[39m,\n",
       "  \u001b[32m\"Class\"\u001b[39m,\n",
       "  \u001b[32m\"NeverSayNever\"\u001b[39m,\n",
       "  \u001b[32m\"SNS\"\u001b[39m,\n",
       "  \u001b[32m\"class\"\u001b[39m,\n",
       "  \u001b[32m\"Scala\"\u001b[39m,\n",
       "  \u001b[32m\"Article\"\u001b[39m\n",
       ")\n",
       "\u001b[36mres20_8\u001b[39m: \u001b[32mListBuffer\u001b[39m[\u001b[32mString\u001b[39m] = \u001b[33mListBuffer\u001b[39m(\n",
       "  \u001b[32m\"NeverSayNever\"\u001b[39m,\n",
       "  \u001b[32m\"SNS\"\u001b[39m,\n",
       "  \u001b[32m\"Class\"\u001b[39m,\n",
       "  \u001b[32m\"NeverSayNever\"\u001b[39m,\n",
       "  \u001b[32m\"SNS\"\u001b[39m,\n",
       "  \u001b[32m\"class\"\u001b[39m,\n",
       "  \u001b[32m\"Scala\"\u001b[39m,\n",
       "  \u001b[32m\"Article\"\u001b[39m\n",
       ")"
      ]
     },
     "metadata": {},
     "output_type": "display_data"
    }
   ],
   "source": [
    "import scala.collection.mutable.ListBuffer\n",
    "\n",
    "var name = ListBuffer[String]()  \n",
    "name += \"NeverSayNever\"\n",
    "name += \"SNS\"\n",
    "name += \"Class\"\n",
    "println(name) \n",
    "\n",
    "name += \"NeverSayNever\"\n",
    "             \n",
    "// Add two or more elements \n",
    "name ++= Seq(\"SNS\", \"class\") \n",
    "    \n",
    "// Adding one or more element using append method \n",
    "name.appendAll(Seq(\"Scala\", \"Article\"))\n",
    "        \n",
    "// Printing ListBuffer \n",
    "println(name) \n"
   ]
  },
  {
   "cell_type": "markdown",
   "metadata": {},
   "source": [
    "Removing elements"
   ]
  },
  {
   "cell_type": "code",
   "execution_count": 22,
   "metadata": {},
   "outputs": [
    {
     "name": "stdout",
     "output_type": "stream",
     "text": [
      "ListBuffer(SAS, class, Scala, Article)\n",
      "ListBuffer(SAS, class, Article)\n",
      "ListBuffer(SAS, tomorrow, Today, Article)\n"
     ]
    },
    {
     "data": {
      "text/html": [
       "<div class=\"jp-RenderedText\">\n",
       "<pre><code><span style=\"color: rgb(0, 187, 187)\"><span class=\"ansi-cyan-fg\">name</span></span>: <span style=\"color: rgb(0, 187, 0)\"><span class=\"ansi-green-fg\">ListBuffer</span></span>[<span style=\"color: rgb(0, 187, 0)\"><span class=\"ansi-green-fg\">String</span></span>] = <span style=\"color: yellow\"><span class=\"ansi-yellow-fg\">ListBuffer</span></span>(<span style=\"color: rgb(0, 187, 0)\"><span class=\"ansi-green-fg\">&quot;SAS&quot;</span></span>, <span style=\"color: rgb(0, 187, 0)\"><span class=\"ansi-green-fg\">&quot;tomorrow&quot;</span></span>, <span style=\"color: rgb(0, 187, 0)\"><span class=\"ansi-green-fg\">&quot;Today&quot;</span></span>, <span style=\"color: rgb(0, 187, 0)\"><span class=\"ansi-green-fg\">&quot;Article&quot;</span></span>)\n",
       "<span style=\"color: rgb(0, 187, 187)\"><span class=\"ansi-cyan-fg\">res22_1</span></span>: <span style=\"color: rgb(0, 187, 0)\"><span class=\"ansi-green-fg\">String</span></span> = <span style=\"color: rgb(0, 187, 0)\"><span class=\"ansi-green-fg\">&quot;NeverSayNever&quot;</span></span></code></pre>\n",
       "</div>"
      ],
      "text/plain": [
       "\u001b[36mname\u001b[39m: \u001b[32mListBuffer\u001b[39m[\u001b[32mString\u001b[39m] = \u001b[33mListBuffer\u001b[39m(\u001b[32m\"SAS\"\u001b[39m, \u001b[32m\"tomorrow\"\u001b[39m, \u001b[32m\"Today\"\u001b[39m, \u001b[32m\"Article\"\u001b[39m)\n",
       "\u001b[36mres22_1\u001b[39m: \u001b[32mString\u001b[39m = \u001b[32m\"NeverSayNever\"\u001b[39m"
      ]
     },
     "metadata": {},
     "output_type": "display_data"
    }
   ],
   "source": [
    "var name = ListBuffer( \"NeverSayNever\", \n",
    "                        \"SAS\", \"class\", \n",
    "                        \"Scala\", \"Article\" ) \n",
    "    \n",
    "// Removing 0th index element \n",
    "name.remove(0) \n",
    "    \n",
    "// Printing resultant ListBuffer \n",
    "println(name) \n",
    "name.remove(2, 1) \n",
    "    \n",
    "// Printing resultant ListBuffer \n",
    "println(name) \n",
    "\n",
    "name.insert(2, \"Today\")\n",
    "name.update(1, \"tomorrow\")\n",
    "println(name)"
   ]
  },
  {
   "cell_type": "markdown",
   "metadata": {},
   "source": [
    "### Tuple\n",
    "\n",
    "Tuple is a immutable collection of elements. Tuples are heterogeneous data structures"
   ]
  },
  {
   "cell_type": "code",
   "execution_count": 28,
   "metadata": {},
   "outputs": [
    {
     "name": "stdout",
     "output_type": "stream",
     "text": [
      "25\n",
      "shraman\n",
      "true\n",
      "25\n",
      "shraman\n",
      "true\n",
      "25\n",
      "shraman\n",
      "true\n",
      "(25,shraman,true)\n",
      "(SNS,SAS)\n"
     ]
    },
    {
     "data": {
      "text/html": [
       "<div class=\"jp-RenderedText\">\n",
       "<pre><code><span style=\"color: rgb(0, 187, 187)\"><span class=\"ansi-cyan-fg\">name</span></span>: (<span style=\"color: rgb(0, 187, 0)\"><span class=\"ansi-green-fg\">Int</span></span>, <span style=\"color: rgb(0, 187, 0)\"><span class=\"ansi-green-fg\">String</span></span>, <span style=\"color: rgb(0, 187, 0)\"><span class=\"ansi-green-fg\">Boolean</span></span>) = (<span style=\"color: rgb(0, 187, 0)\"><span class=\"ansi-green-fg\">25</span></span>, <span style=\"color: rgb(0, 187, 0)\"><span class=\"ansi-green-fg\">&quot;shraman&quot;</span></span>, <span style=\"color: rgb(0, 187, 0)\"><span class=\"ansi-green-fg\">true</span></span>)\n",
       "<span style=\"color: rgb(0, 187, 187)\"><span class=\"ansi-cyan-fg\">a</span></span>: <span style=\"color: rgb(0, 187, 0)\"><span class=\"ansi-green-fg\">Int</span></span> = <span style=\"color: rgb(0, 187, 0)\"><span class=\"ansi-green-fg\">25</span></span>\n",
       "<span style=\"color: rgb(0, 187, 187)\"><span class=\"ansi-cyan-fg\">b</span></span>: <span style=\"color: rgb(0, 187, 0)\"><span class=\"ansi-green-fg\">String</span></span> = <span style=\"color: rgb(0, 187, 0)\"><span class=\"ansi-green-fg\">&quot;shraman&quot;</span></span>\n",
       "<span style=\"color: rgb(0, 187, 187)\"><span class=\"ansi-cyan-fg\">c</span></span>: <span style=\"color: rgb(0, 187, 0)\"><span class=\"ansi-green-fg\">Boolean</span></span> = <span style=\"color: rgb(0, 187, 0)\"><span class=\"ansi-green-fg\">true</span></span>\n",
       "<span style=\"color: rgb(0, 187, 187)\"><span class=\"ansi-cyan-fg\">name2</span></span>: (<span style=\"color: rgb(0, 187, 0)\"><span class=\"ansi-green-fg\">String</span></span>, <span style=\"color: rgb(0, 187, 0)\"><span class=\"ansi-green-fg\">String</span></span>) = (<span style=\"color: rgb(0, 187, 0)\"><span class=\"ansi-green-fg\">&quot;SAS&quot;</span></span>, <span style=\"color: rgb(0, 187, 0)\"><span class=\"ansi-green-fg\">&quot;SNS&quot;</span></span>)</code></pre>\n",
       "</div>"
      ],
      "text/plain": [
       "\u001b[36mname\u001b[39m: (\u001b[32mInt\u001b[39m, \u001b[32mString\u001b[39m, \u001b[32mBoolean\u001b[39m) = (\u001b[32m25\u001b[39m, \u001b[32m\"shraman\"\u001b[39m, \u001b[32mtrue\u001b[39m)\n",
       "\u001b[36ma\u001b[39m: \u001b[32mInt\u001b[39m = \u001b[32m25\u001b[39m\n",
       "\u001b[36mb\u001b[39m: \u001b[32mString\u001b[39m = \u001b[32m\"shraman\"\u001b[39m\n",
       "\u001b[36mc\u001b[39m: \u001b[32mBoolean\u001b[39m = \u001b[32mtrue\u001b[39m\n",
       "\u001b[36mname2\u001b[39m: (\u001b[32mString\u001b[39m, \u001b[32mString\u001b[39m) = (\u001b[32m\"SAS\"\u001b[39m, \u001b[32m\"SNS\"\u001b[39m)"
      ]
     },
     "metadata": {},
     "output_type": "display_data"
    }
   ],
   "source": [
    "var name = (25, \"shraman\", true)\n",
    "\n",
    "println(name._1) // print 1st element\n",
    "println(name._2) // print 2nd element\n",
    "println(name._3) // print 3st element\n",
    "\n",
    "\n",
    "var (a, b, c) = (25, \"shraman\", true)\n",
    "println(a)\n",
    "println(b)\n",
    "println(c)\n",
    "\n",
    "// The foreach method takes a function\n",
    "// as parameter and applies it to \n",
    "// every element in the collection\n",
    "name.productIterator.foreach{i=>println(i)}\n",
    "\n",
    "// print converted string\n",
    "println(name.toString() )\n",
    "\n",
    "// swapping in tuple\n",
    "val name2 = (\"SAS\", \"SNS\")\n",
    "println(name2.swap)"
   ]
  },
  {
   "cell_type": "markdown",
   "metadata": {},
   "source": [
    "### Sets\n",
    "\n",
    "A set is a collection which only contains unique items."
   ]
  },
  {
   "cell_type": "code",
   "execution_count": 34,
   "metadata": {},
   "outputs": [
    {
     "name": "stdout",
     "output_type": "stream",
     "text": [
      "Initialize a HashSet\n",
      "Elements are = HashSet(DayAndKnight, Day, Author)\n",
      "Adding elements to HashSet = HashSet(DayAndKnight, Day, DayClasses, Author)\n",
      "Add more than one HashSets = HashSet(Scala, DayAndKnight, Day, DayClasses, Author, Java)\n",
      "remove element from hashset = HashSet(DayAndKnight, Author)\n",
      "Intersection of hashSet1 and hashSet2 = HashSet(DayAndKnight, Day, DayClasses, Author)\n"
     ]
    },
    {
     "data": {
      "text/plain": [
       "\u001b[32mimport \u001b[39m\u001b[36mscala.collection.immutable.HashSet\u001b[39m\n",
       "\u001b[36mhashSet\u001b[39m: \u001b[32mHashSet\u001b[39m[\u001b[32mString\u001b[39m] = \u001b[33mHashSet\u001b[39m(\u001b[32m\"DayAndKnight\"\u001b[39m, \u001b[32m\"Day\"\u001b[39m, \u001b[32m\"Author\"\u001b[39m)\n",
       "\u001b[36mhs1\u001b[39m: \u001b[32mHashSet\u001b[39m[\u001b[32mString\u001b[39m] = \u001b[33mHashSet\u001b[39m(\u001b[32m\"DayAndKnight\"\u001b[39m, \u001b[32m\"Day\"\u001b[39m, \u001b[32m\"DayClasses\"\u001b[39m, \u001b[32m\"Author\"\u001b[39m)\n",
       "\u001b[36mhs2\u001b[39m: \u001b[32mHashSet\u001b[39m[\u001b[32mString\u001b[39m] = \u001b[33mHashSet\u001b[39m(\n",
       "  \u001b[32m\"Scala\"\u001b[39m,\n",
       "  \u001b[32m\"DayAndKnight\"\u001b[39m,\n",
       "  \u001b[32m\"Day\"\u001b[39m,\n",
       "  \u001b[32m\"DayClasses\"\u001b[39m,\n",
       "  \u001b[32m\"Author\"\u001b[39m,\n",
       "  \u001b[32m\"Java\"\u001b[39m\n",
       ")\n",
       "\u001b[36mhs3\u001b[39m: \u001b[32mHashSet\u001b[39m[\u001b[32mString\u001b[39m] = \u001b[33mHashSet\u001b[39m(\u001b[32m\"DayAndKnight\"\u001b[39m, \u001b[32m\"Author\"\u001b[39m)"
      ]
     },
     "execution_count": 34,
     "metadata": {},
     "output_type": "execute_result"
    }
   ],
   "source": [
    "// Scala program of Initializing HashSet \n",
    "import scala.collection.immutable.HashSet \n",
    "println(\"Initialize a HashSet\") \n",
    "          \n",
    "// Creating HashSet \n",
    "val hashSet: HashSet[String] = HashSet(\"Day\", \n",
    "                            \"DayAndKnight\", \"Author\") \n",
    "println(s\"Elements are = $hashSet\") \n",
    "\n",
    "// Adding an element in HashSet \n",
    "val hs1: HashSet[String] = hashSet + \"DayClasses\"\n",
    "println(s\"Adding elements to HashSet = $hs1\")\n",
    "\n",
    "// Adding elements in HashSet \n",
    "val hs2: HashSet[String] = hs1 ++ HashSet[String](\"Java\", \"Scala\") \n",
    "println(s\"Add more than one HashSets = $hs2\") \n",
    "\n",
    "// removing elements in HashSet \n",
    "val hs3: HashSet[String] = hashSet - \"Day\"\n",
    "println(s\"remove element from hashset = $hs3\") \n",
    "\n",
    "\n",
    "// finding the intersection between two HashSets \n",
    "println(s\"Intersection of hashSet1 and hashSet2 = ${hs1 & hs2}\") "
   ]
  },
  {
   "cell_type": "markdown",
   "metadata": {},
   "source": [
    "# Maps\n",
    "\n",
    "Map is a collection of key-value pairs. Keys are always unique while values need not be unique. Key-value pairs can have any data type."
   ]
  },
  {
   "cell_type": "code",
   "execution_count": 41,
   "metadata": {},
   "outputs": [
    {
     "name": "stderr",
     "output_type": "stream",
     "text": [
      "cmd41.sc:25: method + in trait MapOps is deprecated (since 2.13.0): Consider requiring an immutable Map or fall back to Map.concat.\n",
      "val hashMap3$value = new _root_.almond.api.internal.Modifiable(hashMap2 + (\"P\"->\"Perl\")  \n",
      "                                                                        ^\n"
     ]
    },
    {
     "name": "stdout",
     "output_type": "stream",
     "text": [
      "HashMap()\n",
      "HashMap(J -> Java, C -> Csharp, S -> Scala)\n",
      "J -> Java\n",
      "C -> Csharp\n",
      "S -> Scala\n",
      "Scala\n",
      "P -> Perl\n",
      "J -> Java\n",
      "C -> Csharp\n",
      "S -> Scala\n",
      "After Removing\n",
      "P -> Perl\n",
      "J -> Java\n",
      "S -> Scala\n"
     ]
    },
    {
     "data": {
      "text/html": [
       "<div class=\"jp-RenderedText\">\n",
       "<pre><code><span style=\"color: rgb(0, 187, 0)\"><span class=\"ansi-green-fg\">import </span></span><span style=\"color: rgb(0, 187, 187)\"><span class=\"ansi-cyan-fg\">scala.collection.mutable.HashMap</span></span>\n",
       "<span style=\"color: rgb(0, 187, 187)\"><span class=\"ansi-cyan-fg\">hashMap</span></span>: <span style=\"color: rgb(0, 187, 0)\"><span class=\"ansi-green-fg\">HashMap</span></span>[<span style=\"color: rgb(0, 187, 0)\"><span class=\"ansi-green-fg\">Nothing</span></span>, <span style=\"color: rgb(0, 187, 0)\"><span class=\"ansi-green-fg\">Nothing</span></span>] = <span style=\"color: yellow\"><span class=\"ansi-yellow-fg\">HashMap</span></span>()\n",
       "<span style=\"color: rgb(0, 187, 187)\"><span class=\"ansi-cyan-fg\">hashMap2</span></span>: <span style=\"color: rgb(0, 187, 0)\"><span class=\"ansi-green-fg\">HashMap</span></span>[<span style=\"color: rgb(0, 187, 0)\"><span class=\"ansi-green-fg\">String</span></span>, <span style=\"color: rgb(0, 187, 0)\"><span class=\"ansi-green-fg\">String</span></span>] = <span style=\"color: yellow\"><span class=\"ansi-yellow-fg\">HashMap</span></span>(\n",
       "  <span style=\"color: rgb(0, 187, 0)\"><span class=\"ansi-green-fg\">&quot;J&quot;</span></span> -&gt; <span style=\"color: rgb(0, 187, 0)\"><span class=\"ansi-green-fg\">&quot;Java&quot;</span></span>,\n",
       "  <span style=\"color: rgb(0, 187, 0)\"><span class=\"ansi-green-fg\">&quot;C&quot;</span></span> -&gt; <span style=\"color: rgb(0, 187, 0)\"><span class=\"ansi-green-fg\">&quot;Csharp&quot;</span></span>,\n",
       "  <span style=\"color: rgb(0, 187, 0)\"><span class=\"ansi-green-fg\">&quot;S&quot;</span></span> -&gt; <span style=\"color: rgb(0, 187, 0)\"><span class=\"ansi-green-fg\">&quot;Scala&quot;</span></span>\n",
       ")\n",
       "<span style=\"color: rgb(0, 187, 187)\"><span class=\"ansi-cyan-fg\">hashMap3</span></span>: <span style=\"color: rgb(0, 187, 0)\"><span class=\"ansi-green-fg\">HashMap</span></span>[<span style=\"color: rgb(0, 187, 0)\"><span class=\"ansi-green-fg\">String</span></span>, <span style=\"color: rgb(0, 187, 0)\"><span class=\"ansi-green-fg\">String</span></span>] = <span style=\"color: yellow\"><span class=\"ansi-yellow-fg\">HashMap</span></span>(\n",
       "  <span style=\"color: rgb(0, 187, 0)\"><span class=\"ansi-green-fg\">&quot;P&quot;</span></span> -&gt; <span style=\"color: rgb(0, 187, 0)\"><span class=\"ansi-green-fg\">&quot;Perl&quot;</span></span>,\n",
       "  <span style=\"color: rgb(0, 187, 0)\"><span class=\"ansi-green-fg\">&quot;J&quot;</span></span> -&gt; <span style=\"color: rgb(0, 187, 0)\"><span class=\"ansi-green-fg\">&quot;Java&quot;</span></span>,\n",
       "  <span style=\"color: rgb(0, 187, 0)\"><span class=\"ansi-green-fg\">&quot;S&quot;</span></span> -&gt; <span style=\"color: rgb(0, 187, 0)\"><span class=\"ansi-green-fg\">&quot;Scala&quot;</span></span>\n",
       ")\n",
       "<span style=\"color: rgb(0, 187, 187)\"><span class=\"ansi-cyan-fg\">res41_9</span></span>: <span style=\"color: rgb(0, 187, 0)\"><span class=\"ansi-green-fg\">HashMap</span></span>[<span style=\"color: rgb(0, 187, 0)\"><span class=\"ansi-green-fg\">String</span></span>, <span style=\"color: rgb(0, 187, 0)\"><span class=\"ansi-green-fg\">String</span></span>] = <span style=\"color: yellow\"><span class=\"ansi-yellow-fg\">HashMap</span></span>(\n",
       "  <span style=\"color: rgb(0, 187, 0)\"><span class=\"ansi-green-fg\">&quot;P&quot;</span></span> -&gt; <span style=\"color: rgb(0, 187, 0)\"><span class=\"ansi-green-fg\">&quot;Perl&quot;</span></span>,\n",
       "  <span style=\"color: rgb(0, 187, 0)\"><span class=\"ansi-green-fg\">&quot;J&quot;</span></span> -&gt; <span style=\"color: rgb(0, 187, 0)\"><span class=\"ansi-green-fg\">&quot;Java&quot;</span></span>,\n",
       "  <span style=\"color: rgb(0, 187, 0)\"><span class=\"ansi-green-fg\">&quot;S&quot;</span></span> -&gt; <span style=\"color: rgb(0, 187, 0)\"><span class=\"ansi-green-fg\">&quot;Scala&quot;</span></span>\n",
       ")</code></pre>\n",
       "</div>"
      ],
      "text/plain": [
       "\u001b[32mimport \u001b[39m\u001b[36mscala.collection.mutable.HashMap\u001b[39m\n",
       "\u001b[36mhashMap\u001b[39m: \u001b[32mHashMap\u001b[39m[\u001b[32mNothing\u001b[39m, \u001b[32mNothing\u001b[39m] = \u001b[33mHashMap\u001b[39m()\n",
       "\u001b[36mhashMap2\u001b[39m: \u001b[32mHashMap\u001b[39m[\u001b[32mString\u001b[39m, \u001b[32mString\u001b[39m] = \u001b[33mHashMap\u001b[39m(\n",
       "  \u001b[32m\"J\"\u001b[39m -> \u001b[32m\"Java\"\u001b[39m,\n",
       "  \u001b[32m\"C\"\u001b[39m -> \u001b[32m\"Csharp\"\u001b[39m,\n",
       "  \u001b[32m\"S\"\u001b[39m -> \u001b[32m\"Scala\"\u001b[39m\n",
       ")\n",
       "\u001b[36mhashMap3\u001b[39m: \u001b[32mHashMap\u001b[39m[\u001b[32mString\u001b[39m, \u001b[32mString\u001b[39m] = \u001b[33mHashMap\u001b[39m(\n",
       "  \u001b[32m\"P\"\u001b[39m -> \u001b[32m\"Perl\"\u001b[39m,\n",
       "  \u001b[32m\"J\"\u001b[39m -> \u001b[32m\"Java\"\u001b[39m,\n",
       "  \u001b[32m\"S\"\u001b[39m -> \u001b[32m\"Scala\"\u001b[39m\n",
       ")\n",
       "\u001b[36mres41_9\u001b[39m: \u001b[32mHashMap\u001b[39m[\u001b[32mString\u001b[39m, \u001b[32mString\u001b[39m] = \u001b[33mHashMap\u001b[39m(\n",
       "  \u001b[32m\"P\"\u001b[39m -> \u001b[32m\"Perl\"\u001b[39m,\n",
       "  \u001b[32m\"J\"\u001b[39m -> \u001b[32m\"Java\"\u001b[39m,\n",
       "  \u001b[32m\"S\"\u001b[39m -> \u001b[32m\"Scala\"\u001b[39m\n",
       ")"
      ]
     },
     "metadata": {},
     "output_type": "display_data"
    }
   ],
   "source": [
    "// Scala program to create or print HashMap \n",
    "import scala.collection.mutable.HashMap \n",
    "\n",
    "// Creating empty HashMap \n",
    "var hashMap = new HashMap()   \n",
    "    \n",
    "// Creating HashMap with values \n",
    "var hashMap2 = HashMap(\"C\"->\"Csharp\", \"S\"->\"Scala\", \"J\"->\"Java\")   \n",
    "    \n",
    "// Printing HashMap \n",
    "println(hashMap)   \n",
    "println(hashMap2)\n",
    "\n",
    "for((k,v) <- hashMap2) {\n",
    "    println(s\"$k -> $v\")\n",
    "}\n",
    "\n",
    "// Accessing value by using key  \n",
    "println(hashMap2(\"S\"))\n",
    "\n",
    "var hashMap3 = hashMap2 + (\"P\"->\"Perl\")  \n",
    "for((k,v) <- hashMap3) {\n",
    "    println(s\"$k -> $v\")\n",
    "}\n",
    "\n",
    "// Removing an element \n",
    "hashMap3 -= \"C\"\n",
    "    \n",
    "println(\"After Removing\") \n",
    "for((k,v) <- hashMap3) {\n",
    "    println(s\"$k -> $v\")\n",
    "}\n"
   ]
  },
  {
   "cell_type": "markdown",
   "metadata": {},
   "source": []
  }
 ],
 "metadata": {
  "kernelspec": {
   "display_name": "Scala",
   "language": "scala",
   "name": "scala"
  },
  "language_info": {
   "codemirror_mode": "text/x-scala",
   "file_extension": ".sc",
   "mimetype": "text/x-scala",
   "name": "scala",
   "nbconvert_exporter": "script",
   "version": "2.13.14"
  }
 },
 "nbformat": 4,
 "nbformat_minor": 2
}
