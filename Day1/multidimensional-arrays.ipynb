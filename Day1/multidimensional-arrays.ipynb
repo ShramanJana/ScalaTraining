{
 "cells": [
  {
   "cell_type": "markdown",
   "metadata": {},
   "source": [
    "# Multi-Dimensional Arrays"
   ]
  },
  {
   "cell_type": "markdown",
   "metadata": {},
   "source": [
    "The Multidimensional arrays contains more than one row to store the values."
   ]
  },
  {
   "cell_type": "code",
   "execution_count": 2,
   "metadata": {},
   "outputs": [
    {
     "name": "stdout",
     "output_type": "stream",
     "text": [
      "(0)(0) = gfg\n",
      "(0)(1) = Geeks\n",
      "(0)(2) = GeeksQuize\n",
      "(1)(0) = GeeksForGeeks\n",
      "(1)(1) = Employee\n",
      "(1)(2) = Author\n"
     ]
    },
    {
     "data": {
      "text/plain": [
       "\u001b[36mrows\u001b[39m: \u001b[32mInt\u001b[39m = \u001b[32m2\u001b[39m\n",
       "\u001b[36mcols\u001b[39m: \u001b[32mInt\u001b[39m = \u001b[32m3\u001b[39m\n",
       "\u001b[36mnames\u001b[39m: \u001b[32mArray\u001b[39m[\u001b[32mArray\u001b[39m[\u001b[32mString\u001b[39m]] = \u001b[33mArray\u001b[39m(\n",
       "  \u001b[33mArray\u001b[39m(\u001b[32m\"gfg\"\u001b[39m, \u001b[32m\"Geeks\"\u001b[39m, \u001b[32m\"GeeksQuize\"\u001b[39m),\n",
       "  \u001b[33mArray\u001b[39m(\u001b[32m\"GeeksForGeeks\"\u001b[39m, \u001b[32m\"Employee\"\u001b[39m, \u001b[32m\"Author\"\u001b[39m)\n",
       ")"
      ]
     },
     "execution_count": 2,
     "metadata": {},
     "output_type": "execute_result"
    }
   ],
   "source": [
    "val rows = 2\n",
    "val cols = 3\n",
    "    \n",
    "// Declaring Multidimension array \n",
    "val names = Array.ofDim[String](rows, cols) \n",
    "    \n",
    "// Allocating values \n",
    "names(0)(0) = \"gfg\"\n",
    "names(0)(1) = \"Geeks\"\n",
    "names(0)(2) = \"GeeksQuize\"\n",
    "names(1)(0) = \"GeeksForGeeks\"\n",
    "names(1)(1) = \"Employee\"\n",
    "names(1)(2) = \"Author\"\n",
    "for\n",
    "{ \n",
    "    i <- 0 until rows \n",
    "    j <- 0 until cols \n",
    "} \n",
    "    \n",
    "// Printing values \n",
    "println(s\"($i)($j) = ${names(i)(j)}\")"
   ]
  },
  {
   "cell_type": "code",
   "execution_count": null,
   "metadata": {},
   "outputs": [],
   "source": []
  }
 ],
 "metadata": {
  "kernelspec": {
   "display_name": "Scala",
   "language": "scala",
   "name": "scala"
  },
  "language_info": {
   "codemirror_mode": "text/x-scala",
   "file_extension": ".sc",
   "mimetype": "text/x-scala",
   "name": "scala",
   "nbconvert_exporter": "script",
   "version": "2.13.14"
  }
 },
 "nbformat": 4,
 "nbformat_minor": 2
}
