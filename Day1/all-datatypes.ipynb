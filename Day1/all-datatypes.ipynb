{
 "cells": [
  {
   "cell_type": "markdown",
   "metadata": {},
   "source": [
    "# All DataTypes in Scala"
   ]
  },
  {
   "cell_type": "markdown",
   "metadata": {},
   "source": [
    "### Any\n",
    "All the data types in Scala are subtype of \"Matchable\" which itself is a subtype of \"Any\". Match has 2 important subtypes\n",
    "1. AnyVal\n",
    "2. AnyRef"
   ]
  },
  {
   "cell_type": "markdown",
   "metadata": {},
   "source": [
    "### AnyVal \n",
    "AnyVal represents non-nullable value types. Examples are Int, Float, Double, Boolean, Short, Char, Long, Byte and Unit. Unit is a value type which represents no meaningful information\n"
   ]
  },
  {
   "cell_type": "code",
   "execution_count": 13,
   "metadata": {},
   "outputs": [
    {
     "data": {
      "text/plain": [
       "\u001b[36mintVal\u001b[39m: \u001b[32mInt\u001b[39m = \u001b[32m12\u001b[39m\n",
       "\u001b[36mfloatVal\u001b[39m: \u001b[32mFloat\u001b[39m = \u001b[32m12.1F\u001b[39m\n",
       "\u001b[36mdoubleVal\u001b[39m: \u001b[32mDouble\u001b[39m = \u001b[32m12.34\u001b[39m\n",
       "\u001b[36mcharVal\u001b[39m: \u001b[32mDouble\u001b[39m = \u001b[32m99.0\u001b[39m\n",
       "\u001b[36mbyteVal\u001b[39m: \u001b[32mByte\u001b[39m = \u001b[32m10\u001b[39m\n",
       "\u001b[36mshortVal\u001b[39m: \u001b[32mShort\u001b[39m = \u001b[32m12\u001b[39m\n",
       "\u001b[36mboolVal\u001b[39m: \u001b[32mBoolean\u001b[39m = \u001b[32mtrue\u001b[39m\n",
       "\u001b[36mlongVal\u001b[39m: \u001b[32mLong\u001b[39m = \u001b[32m12L\u001b[39m"
      ]
     },
     "execution_count": 13,
     "metadata": {},
     "output_type": "execute_result"
    }
   ],
   "source": [
    "val intVal:Int = 12                 // stores 32 bit signed integer value\n",
    "val floatVal:Float = 12.1F          // stores 32 bit signed floating point value\n",
    "val doubleVal:Double = 12.34D       // stores 64 bit signed floating point value\n",
    "val charVal:Double = 'c'            // stores single characters value\n",
    "val byteVal:Byte = 10               // stores 8 bit signed integer value\n",
    "val shortVal:Short = 12             // stores 16 bit signe dinteger value\n",
    "val boolVal:Boolean = true          // stores boolean values true or false\n",
    "val longVal:Long = 12L              // stores 64 bit signed integer value"
   ]
  },
  {
   "cell_type": "markdown",
   "metadata": {},
   "source": [
    "### AnyRef\n",
    "AnyRef represents reference types. All non-value types are defined as reference types. For Example- Strings, Lists"
   ]
  },
  {
   "cell_type": "code",
   "execution_count": 16,
   "metadata": {},
   "outputs": [
    {
     "name": "stdout",
     "output_type": "stream",
     "text": [
      "This is a sample statement\n",
      "which represents a block comment"
     ]
    },
    {
     "data": {
      "text/plain": [
       "\u001b[36mstr\u001b[39m: \u001b[32mString\u001b[39m = \u001b[32m\"Hello World\"\u001b[39m\n",
       "\u001b[36minlineStr\u001b[39m: \u001b[32mString\u001b[39m = \u001b[32m\"\"\"This is a sample statement\n",
       "which represents a block comment\"\"\"\u001b[39m"
      ]
     },
     "execution_count": 16,
     "metadata": {},
     "output_type": "execute_result"
    }
   ],
   "source": [
    "val str:String = \"Hello World\"\n",
    "val inlineStr:String = \"\"\"This is a sample statement\n",
    "which represents a block comment\"\"\"\n",
    "print(inlineStr)"
   ]
  },
  {
   "cell_type": "code",
   "execution_count": null,
   "metadata": {},
   "outputs": [],
   "source": []
  }
 ],
 "metadata": {
  "kernelspec": {
   "display_name": "Scala",
   "language": "scala",
   "name": "scala"
  },
  "language_info": {
   "codemirror_mode": "text/x-scala",
   "file_extension": ".sc",
   "mimetype": "text/x-scala",
   "name": "scala",
   "nbconvert_exporter": "script",
   "version": "2.13.14"
  }
 },
 "nbformat": 4,
 "nbformat_minor": 2
}
